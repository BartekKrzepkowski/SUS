{
 "cells": [
  {
   "cell_type": "code",
   "execution_count": 1,
   "metadata": {},
   "outputs": [],
   "source": [
    "# Load necessary packages\n",
    "\n",
    "import os\n",
    "import sklearn\n",
    "import numpy as np\n",
    "import pandas as pd\n",
    "import matplotlib.pyplot as plt\n",
    "\n",
    "%matplotlib inline"
   ]
  },
  {
   "cell_type": "code",
   "execution_count": 2,
   "metadata": {},
   "outputs": [
    {
     "data": {
      "text/html": [
       "<div>\n",
       "<style scoped>\n",
       "    .dataframe tbody tr th:only-of-type {\n",
       "        vertical-align: middle;\n",
       "    }\n",
       "\n",
       "    .dataframe tbody tr th {\n",
       "        vertical-align: top;\n",
       "    }\n",
       "\n",
       "    .dataframe thead th {\n",
       "        text-align: right;\n",
       "    }\n",
       "</style>\n",
       "<table border=\"1\" class=\"dataframe\">\n",
       "  <thead>\n",
       "    <tr style=\"text-align: right;\">\n",
       "      <th></th>\n",
       "      <th>deck</th>\n",
       "      <th>nofGames</th>\n",
       "      <th>nOfPlayers</th>\n",
       "      <th>winRate</th>\n",
       "    </tr>\n",
       "  </thead>\n",
       "  <tbody>\n",
       "    <tr>\n",
       "      <th>0</th>\n",
       "      <td>archers;arrows;baby-dragon;balloon;bats;fireba...</td>\n",
       "      <td>44</td>\n",
       "      <td>2</td>\n",
       "      <td>0.58511</td>\n",
       "    </tr>\n",
       "    <tr>\n",
       "      <th>1</th>\n",
       "      <td>archers;arrows;baby-dragon;balloon;bomber;free...</td>\n",
       "      <td>143</td>\n",
       "      <td>3</td>\n",
       "      <td>0.53767</td>\n",
       "    </tr>\n",
       "    <tr>\n",
       "      <th>2</th>\n",
       "      <td>archers;arrows;baby-dragon;balloon;bomber;gian...</td>\n",
       "      <td>61</td>\n",
       "      <td>3</td>\n",
       "      <td>0.34375</td>\n",
       "    </tr>\n",
       "    <tr>\n",
       "      <th>3</th>\n",
       "      <td>archers;arrows;baby-dragon;balloon;cannon;free...</td>\n",
       "      <td>162</td>\n",
       "      <td>1</td>\n",
       "      <td>0.49394</td>\n",
       "    </tr>\n",
       "    <tr>\n",
       "      <th>4</th>\n",
       "      <td>archers;arrows;baby-dragon;balloon;electro-wiz...</td>\n",
       "      <td>57</td>\n",
       "      <td>1</td>\n",
       "      <td>0.55833</td>\n",
       "    </tr>\n",
       "  </tbody>\n",
       "</table>\n",
       "</div>"
      ],
      "text/plain": [
       "                                                deck  nofGames  nOfPlayers  \\\n",
       "0  archers;arrows;baby-dragon;balloon;bats;fireba...        44           2   \n",
       "1  archers;arrows;baby-dragon;balloon;bomber;free...       143           3   \n",
       "2  archers;arrows;baby-dragon;balloon;bomber;gian...        61           3   \n",
       "3  archers;arrows;baby-dragon;balloon;cannon;free...       162           1   \n",
       "4  archers;arrows;baby-dragon;balloon;electro-wiz...        57           1   \n",
       "\n",
       "   winRate  \n",
       "0  0.58511  \n",
       "1  0.53767  \n",
       "2  0.34375  \n",
       "3  0.49394  \n",
       "4  0.55833  "
      ]
     },
     "execution_count": 2,
     "metadata": {},
     "output_type": "execute_result"
    }
   ],
   "source": [
    "DATA_PATH = \"data\"\n",
    "\n",
    "# Read data and present\n",
    "train = pd.read_csv(os.path.join(DATA_PATH, 'trainingData.csv'))\n",
    "valid = pd.read_csv(os.path.join(DATA_PATH, 'validationData.csv'))\n",
    "train.head()"
   ]
  },
  {
   "cell_type": "code",
   "execution_count": 3,
   "metadata": {},
   "outputs": [
    {
     "data": {
      "text/html": [
       "<div>\n",
       "<style scoped>\n",
       "    .dataframe tbody tr th:only-of-type {\n",
       "        vertical-align: middle;\n",
       "    }\n",
       "\n",
       "    .dataframe tbody tr th {\n",
       "        vertical-align: top;\n",
       "    }\n",
       "\n",
       "    .dataframe thead th {\n",
       "        text-align: right;\n",
       "    }\n",
       "</style>\n",
       "<table border=\"1\" class=\"dataframe\">\n",
       "  <thead>\n",
       "    <tr style=\"text-align: right;\">\n",
       "      <th></th>\n",
       "      <th>deck</th>\n",
       "      <th>nofGames</th>\n",
       "      <th>nOfPlayers</th>\n",
       "      <th>winRate</th>\n",
       "    </tr>\n",
       "  </thead>\n",
       "  <tbody>\n",
       "    <tr>\n",
       "      <th>0</th>\n",
       "      <td>archers;arrows;baby-dragon;bandit;elixir-colle...</td>\n",
       "      <td>130</td>\n",
       "      <td>32</td>\n",
       "      <td>0.48496</td>\n",
       "    </tr>\n",
       "    <tr>\n",
       "      <th>1</th>\n",
       "      <td>archers;arrows;baby-dragon;elixir-collector;go...</td>\n",
       "      <td>495</td>\n",
       "      <td>75</td>\n",
       "      <td>0.47289</td>\n",
       "    </tr>\n",
       "    <tr>\n",
       "      <th>2</th>\n",
       "      <td>archers;arrows;baby-dragon;golem;lightning;meg...</td>\n",
       "      <td>271</td>\n",
       "      <td>25</td>\n",
       "      <td>0.52372</td>\n",
       "    </tr>\n",
       "    <tr>\n",
       "      <th>3</th>\n",
       "      <td>archers;arrows;baby-dragon;golem;lightning;meg...</td>\n",
       "      <td>125</td>\n",
       "      <td>20</td>\n",
       "      <td>0.58594</td>\n",
       "    </tr>\n",
       "    <tr>\n",
       "      <th>4</th>\n",
       "      <td>archers;arrows;balloon;barbarians;fireball;gia...</td>\n",
       "      <td>130</td>\n",
       "      <td>23</td>\n",
       "      <td>0.50000</td>\n",
       "    </tr>\n",
       "  </tbody>\n",
       "</table>\n",
       "</div>"
      ],
      "text/plain": [
       "                                                deck  nofGames  nOfPlayers  \\\n",
       "0  archers;arrows;baby-dragon;bandit;elixir-colle...       130          32   \n",
       "1  archers;arrows;baby-dragon;elixir-collector;go...       495          75   \n",
       "2  archers;arrows;baby-dragon;golem;lightning;meg...       271          25   \n",
       "3  archers;arrows;baby-dragon;golem;lightning;meg...       125          20   \n",
       "4  archers;arrows;balloon;barbarians;fireball;gia...       130          23   \n",
       "\n",
       "   winRate  \n",
       "0  0.48496  \n",
       "1  0.47289  \n",
       "2  0.52372  \n",
       "3  0.58594  \n",
       "4  0.50000  "
      ]
     },
     "execution_count": 3,
     "metadata": {},
     "output_type": "execute_result"
    }
   ],
   "source": [
    "valid.head()"
   ]
  },
  {
   "cell_type": "code",
   "execution_count": 4,
   "metadata": {},
   "outputs": [],
   "source": [
    "# Helper functions to preprocess data to bag-of-cards format\n",
    "\n",
    "def unnest(df, col):\n",
    "    unnested = (df.apply(lambda x: pd.Series(x[col]), axis=1)\n",
    "                .stack()\n",
    "                .reset_index(level=1, drop=True))\n",
    "    unnested.name = col\n",
    "    return df.drop(col, axis=1).join(unnested)\n",
    "\n",
    "def to_bag_of_cards(df):\n",
    "    df['ind'] = np.arange(df.shape[0]) + 1\n",
    "    df_orig = df.copy()\n",
    "    df['deck'] = df['deck'].apply(lambda d: d.split(';'))\n",
    "    df = unnest(df, 'deck')\n",
    "    df['value'] = 1\n",
    "    df_bag = df.pivot(index='ind', columns='deck', values='value')\n",
    "    df_bag[df_bag.isna()] = 0\n",
    "    df_bag = df_bag.astype('int')\n",
    "    return pd.concat([df_orig.set_index('ind'), df_bag], axis=1)"
   ]
  },
  {
   "cell_type": "code",
   "execution_count": null,
   "metadata": {},
   "outputs": [],
   "source": [
    "train = to_bag_of_cards(train)\n",
    "valid = to_bag_of_cards(valid)\n",
    "train.head()"
   ]
  },
  {
   "cell_type": "code",
   "execution_count": null,
   "metadata": {},
   "outputs": [],
   "source": [
    "valid.head()"
   ]
  },
  {
   "cell_type": "code",
   "execution_count": null,
   "metadata": {},
   "outputs": [],
   "source": [
    "# Sort data by number of games played\n",
    "\n",
    "train = train.sort_values('nofGames', ascending=False)\n",
    "valid = valid.sort_values('nofGames', ascending=False)"
   ]
  },
  {
   "cell_type": "code",
   "execution_count": null,
   "metadata": {},
   "outputs": [],
   "source": [
    "# Specify example model fitting function and R squared metric\n",
    "\n",
    "from sklearn.svm import SVR\n",
    "\n",
    "def R2_1(x, y):\n",
    "    return 1 - np.sum(np.square(x - y)) / np.sum(np.square(y - np.mean(y)))\n",
    "\n",
    "def R2_2(x, y):\n",
    "    return np.sum(np.square(x - np.mean(y))) / np.sum(np.square(y - np.mean(y)))\n",
    "\n",
    "def fit_svm(data):\n",
    "    svr = SVR(kernel='rbf', gamma=1.0/90, C=1.0, epsilon=0.02, shrinking=False)\n",
    "    svr.fit(data.drop(['deck', 'nofGames', 'nOfPlayers', 'winRate'], axis=1), data['winRate'])\n",
    "    return svr\n",
    "\n",
    "sizes = (np.arange(10) + 6) * 100"
   ]
  },
  {
   "cell_type": "code",
   "execution_count": null,
   "metadata": {},
   "outputs": [],
   "source": [
    "# Fit and predict on models of various training sizes\n",
    "\n",
    "model_list = list(map(lambda size: fit_svm(train.iloc[1:size]), sizes))\n",
    "pred_list = list(map(lambda model: model.predict(valid.drop(['deck', 'nofGames', 'nOfPlayers', 'winRate'], axis=1)),\n",
    "                     model_list))"
   ]
  },
  {
   "cell_type": "code",
   "execution_count": null,
   "metadata": {},
   "outputs": [],
   "source": [
    "# Calculate R squared scores\n",
    "\n",
    "r2 = list(map(lambda p: R2_2(p, valid['winRate']), pred_list))\n",
    "r2"
   ]
  },
  {
   "cell_type": "code",
   "execution_count": null,
   "metadata": {},
   "outputs": [],
   "source": [
    "# Calculate R squared scores\n",
    "\n",
    "r2 = list(map(lambda model: model.score(valid.drop(['deck', 'nofGames', 'nOfPlayers', 'winRate'], axis=1), valid['winRate']), model_list))\n",
    "r2"
   ]
  },
  {
   "cell_type": "code",
   "execution_count": null,
   "metadata": {},
   "outputs": [],
   "source": [
    "plt.plot(sizes, r2);"
   ]
  },
  {
   "cell_type": "code",
   "execution_count": null,
   "metadata": {},
   "outputs": [],
   "source": [
    "np.mean(r2)"
   ]
  },
  {
   "cell_type": "code",
   "execution_count": null,
   "metadata": {},
   "outputs": [],
   "source": [
    "# Save hyperparameteres and selected indices in submission format\n",
    "\n",
    "with open('example_sub_python.txt', 'a') as f:\n",
    "    for size in sizes:\n",
    "        ind_text = ','.join(list(map(str, train.index.values[:size])))\n",
    "        text = ';'.join(['0.02', '1.0', str(1.0 / 90), ind_text])\n",
    "        f.write(text + '\\n')"
   ]
  }
 ],
 "metadata": {
  "kernelspec": {
   "display_name": "Python 3",
   "language": "python",
   "name": "python3"
  },
  "language_info": {
   "codemirror_mode": {
    "name": "ipython",
    "version": 3
   },
   "file_extension": ".py",
   "mimetype": "text/x-python",
   "name": "python",
   "nbconvert_exporter": "python",
   "pygments_lexer": "ipython3",
   "version": "3.6.7"
  }
 },
 "nbformat": 4,
 "nbformat_minor": 2
}
