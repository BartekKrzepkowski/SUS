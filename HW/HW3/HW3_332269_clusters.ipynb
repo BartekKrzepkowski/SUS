{
 "cells": [
  {
   "cell_type": "code",
   "execution_count": 1,
   "metadata": {},
   "outputs": [],
   "source": [
    "%load_ext autoreload\n",
    "%autoreload 2"
   ]
  },
  {
   "cell_type": "markdown",
   "metadata": {},
   "source": [
    "# HW3"
   ]
  },
  {
   "cell_type": "markdown",
   "metadata": {},
   "source": [
    "1. EDA dla danych\n",
    "2. Active Learning dla regresji\n",
    "3. Coreset jako zbiór początkowy\n",
    "4. Ogarnąć SVR do AL, jak stworzyć query strategy(komitet svr-ów, wybieramy punkt majacy największą wariancje)\n",
    "5. Przeszukiwanie przestrzeni hiperparametrów\n",
    "6. Zbadać strategie kolejnych treningów, czy są kłopoty z dodawaniem batchów"
   ]
  },
  {
   "cell_type": "code",
   "execution_count": 2,
   "metadata": {},
   "outputs": [],
   "source": [
    "# Load necessary packages\n",
    "import os\n",
    "import numpy as np\n",
    "import pandas as pd\n",
    "import matplotlib.pyplot as plt\n",
    "%matplotlib inline"
   ]
  },
  {
   "cell_type": "code",
   "execution_count": 3,
   "metadata": {},
   "outputs": [],
   "source": [
    "import warnings\n",
    "from IPython.display import clear_output\n",
    "from sklearn.exceptions import DataConversionWarning\n",
    "warnings.filterwarnings(action='ignore', category=DataConversionWarning)"
   ]
  },
  {
   "cell_type": "code",
   "execution_count": 4,
   "metadata": {},
   "outputs": [],
   "source": [
    "from sklearn.metrics import mean_squared_error\n",
    "from sklearn.ensemble import BaggingRegressor\n",
    "from sklearn.svm import SVR\n",
    "import xgboost as xgb"
   ]
  },
  {
   "cell_type": "code",
   "execution_count": 5,
   "metadata": {},
   "outputs": [],
   "source": [
    "from utils import get_data, round_params, R2_1"
   ]
  },
  {
   "cell_type": "markdown",
   "metadata": {},
   "source": [
    "# Load data"
   ]
  },
  {
   "cell_type": "code",
   "execution_count": 6,
   "metadata": {},
   "outputs": [],
   "source": [
    "# load data from path\n",
    "DATA_PATH = \"data\"\n",
    "train = pd.read_csv(os.path.join(DATA_PATH, 'trainingData.csv'))\n",
    "valid = pd.read_csv(os.path.join(DATA_PATH, 'validationData.csv'))"
   ]
  },
  {
   "cell_type": "code",
   "execution_count": 7,
   "metadata": {},
   "outputs": [
    {
     "name": "stderr",
     "output_type": "stream",
     "text": [
      "/usr/local/lib/python3.6/dist-packages/sklearn/cluster/k_means_.py:1559: RuntimeWarning: init_size=300 should be larger than k=1000. Setting it to 3*k\n",
      "  init_size=init_size)\n",
      "/usr/local/lib/python3.6/dist-packages/sklearn/cluster/k_means_.py:1559: RuntimeWarning: init_size=300 should be larger than k=1000. Setting it to 3*k\n",
      "  init_size=init_size)\n",
      "/usr/local/lib/python3.6/dist-packages/sklearn/cluster/k_means_.py:1559: RuntimeWarning: init_size=300 should be larger than k=1000. Setting it to 3*k\n",
      "  init_size=init_size)\n"
     ]
    }
   ],
   "source": [
    "target = \"winRate\"\n",
    "feat = [\"nofGames\", 'winRate']\n",
    "col_names = [\"nofGames\", \"nOfPlayers\", \"winRate\"]\n",
    "train, valid, baseline_idxs = get_data(train, valid, feat=feat)"
   ]
  },
  {
   "cell_type": "code",
   "execution_count": 8,
   "metadata": {},
   "outputs": [],
   "source": [
    "x_train = train.drop(col_names, axis=1).values\n",
    "y_train = train[target].values\n",
    "\n",
    "x_val = valid.drop(col_names, axis=1).values\n",
    "y_val = valid[target].values"
   ]
  },
  {
   "cell_type": "code",
   "execution_count": 9,
   "metadata": {},
   "outputs": [],
   "source": [
    "base_params = {\n",
    "    \"kernel\": \"rbf\",\n",
    "    \"shrinking\": False\n",
    "}\n",
    "param_name = [\"gamma\", \"epsilon\", \"C\"]"
   ]
  },
  {
   "cell_type": "code",
   "execution_count": 11,
   "metadata": {},
   "outputs": [],
   "source": [
    "baseline_idxs = np.load(\"idxs_kmeans.npy\", allow_pickle=True)"
   ]
  },
  {
   "cell_type": "code",
   "execution_count": 10,
   "metadata": {},
   "outputs": [
    {
     "data": {
      "text/html": [
       "<div>\n",
       "<style scoped>\n",
       "    .dataframe tbody tr th:only-of-type {\n",
       "        vertical-align: middle;\n",
       "    }\n",
       "\n",
       "    .dataframe tbody tr th {\n",
       "        vertical-align: top;\n",
       "    }\n",
       "\n",
       "    .dataframe thead th {\n",
       "        text-align: right;\n",
       "    }\n",
       "</style>\n",
       "<table border=\"1\" class=\"dataframe\">\n",
       "  <thead>\n",
       "    <tr style=\"text-align: right;\">\n",
       "      <th></th>\n",
       "      <th>nofGames</th>\n",
       "      <th>nOfPlayers</th>\n",
       "      <th>winRate</th>\n",
       "      <th>archers</th>\n",
       "      <th>arrows</th>\n",
       "      <th>baby-dragon</th>\n",
       "      <th>balloon</th>\n",
       "      <th>bandit</th>\n",
       "      <th>barbarian-barrel</th>\n",
       "      <th>barbarian-hut</th>\n",
       "      <th>...</th>\n",
       "      <th>the-log</th>\n",
       "      <th>three-musketeers</th>\n",
       "      <th>tombstone</th>\n",
       "      <th>tornado</th>\n",
       "      <th>valkyrie</th>\n",
       "      <th>witch</th>\n",
       "      <th>wizard</th>\n",
       "      <th>x-bow</th>\n",
       "      <th>zap</th>\n",
       "      <th>zappies</th>\n",
       "    </tr>\n",
       "    <tr>\n",
       "      <th>ind</th>\n",
       "      <th></th>\n",
       "      <th></th>\n",
       "      <th></th>\n",
       "      <th></th>\n",
       "      <th></th>\n",
       "      <th></th>\n",
       "      <th></th>\n",
       "      <th></th>\n",
       "      <th></th>\n",
       "      <th></th>\n",
       "      <th></th>\n",
       "      <th></th>\n",
       "      <th></th>\n",
       "      <th></th>\n",
       "      <th></th>\n",
       "      <th></th>\n",
       "      <th></th>\n",
       "      <th></th>\n",
       "      <th></th>\n",
       "      <th></th>\n",
       "      <th></th>\n",
       "    </tr>\n",
       "  </thead>\n",
       "  <tbody>\n",
       "    <tr>\n",
       "      <th>1</th>\n",
       "      <td>44</td>\n",
       "      <td>2</td>\n",
       "      <td>0.58511</td>\n",
       "      <td>1</td>\n",
       "      <td>1</td>\n",
       "      <td>1</td>\n",
       "      <td>1</td>\n",
       "      <td>0</td>\n",
       "      <td>0</td>\n",
       "      <td>0</td>\n",
       "      <td>...</td>\n",
       "      <td>0</td>\n",
       "      <td>0</td>\n",
       "      <td>0</td>\n",
       "      <td>0</td>\n",
       "      <td>0</td>\n",
       "      <td>0</td>\n",
       "      <td>0</td>\n",
       "      <td>0</td>\n",
       "      <td>0</td>\n",
       "      <td>0</td>\n",
       "    </tr>\n",
       "    <tr>\n",
       "      <th>2</th>\n",
       "      <td>143</td>\n",
       "      <td>3</td>\n",
       "      <td>0.53767</td>\n",
       "      <td>1</td>\n",
       "      <td>1</td>\n",
       "      <td>1</td>\n",
       "      <td>1</td>\n",
       "      <td>0</td>\n",
       "      <td>0</td>\n",
       "      <td>0</td>\n",
       "      <td>...</td>\n",
       "      <td>0</td>\n",
       "      <td>0</td>\n",
       "      <td>0</td>\n",
       "      <td>0</td>\n",
       "      <td>1</td>\n",
       "      <td>0</td>\n",
       "      <td>0</td>\n",
       "      <td>0</td>\n",
       "      <td>0</td>\n",
       "      <td>0</td>\n",
       "    </tr>\n",
       "    <tr>\n",
       "      <th>3</th>\n",
       "      <td>61</td>\n",
       "      <td>3</td>\n",
       "      <td>0.34375</td>\n",
       "      <td>1</td>\n",
       "      <td>1</td>\n",
       "      <td>1</td>\n",
       "      <td>1</td>\n",
       "      <td>0</td>\n",
       "      <td>0</td>\n",
       "      <td>0</td>\n",
       "      <td>...</td>\n",
       "      <td>0</td>\n",
       "      <td>0</td>\n",
       "      <td>0</td>\n",
       "      <td>0</td>\n",
       "      <td>0</td>\n",
       "      <td>0</td>\n",
       "      <td>0</td>\n",
       "      <td>0</td>\n",
       "      <td>0</td>\n",
       "      <td>0</td>\n",
       "    </tr>\n",
       "    <tr>\n",
       "      <th>4</th>\n",
       "      <td>162</td>\n",
       "      <td>1</td>\n",
       "      <td>0.49394</td>\n",
       "      <td>1</td>\n",
       "      <td>1</td>\n",
       "      <td>1</td>\n",
       "      <td>1</td>\n",
       "      <td>0</td>\n",
       "      <td>0</td>\n",
       "      <td>0</td>\n",
       "      <td>...</td>\n",
       "      <td>0</td>\n",
       "      <td>0</td>\n",
       "      <td>0</td>\n",
       "      <td>0</td>\n",
       "      <td>0</td>\n",
       "      <td>0</td>\n",
       "      <td>0</td>\n",
       "      <td>0</td>\n",
       "      <td>0</td>\n",
       "      <td>0</td>\n",
       "    </tr>\n",
       "    <tr>\n",
       "      <th>5</th>\n",
       "      <td>57</td>\n",
       "      <td>1</td>\n",
       "      <td>0.55833</td>\n",
       "      <td>1</td>\n",
       "      <td>1</td>\n",
       "      <td>1</td>\n",
       "      <td>1</td>\n",
       "      <td>0</td>\n",
       "      <td>0</td>\n",
       "      <td>0</td>\n",
       "      <td>...</td>\n",
       "      <td>0</td>\n",
       "      <td>0</td>\n",
       "      <td>0</td>\n",
       "      <td>0</td>\n",
       "      <td>1</td>\n",
       "      <td>0</td>\n",
       "      <td>0</td>\n",
       "      <td>0</td>\n",
       "      <td>0</td>\n",
       "      <td>0</td>\n",
       "    </tr>\n",
       "  </tbody>\n",
       "</table>\n",
       "<p>5 rows × 93 columns</p>\n",
       "</div>"
      ],
      "text/plain": [
       "     nofGames  nOfPlayers  winRate  archers  arrows  baby-dragon  balloon  \\\n",
       "ind                                                                         \n",
       "1          44           2  0.58511        1       1            1        1   \n",
       "2         143           3  0.53767        1       1            1        1   \n",
       "3          61           3  0.34375        1       1            1        1   \n",
       "4         162           1  0.49394        1       1            1        1   \n",
       "5          57           1  0.55833        1       1            1        1   \n",
       "\n",
       "     bandit  barbarian-barrel  barbarian-hut   ...     the-log  \\\n",
       "ind                                            ...               \n",
       "1         0                 0              0   ...           0   \n",
       "2         0                 0              0   ...           0   \n",
       "3         0                 0              0   ...           0   \n",
       "4         0                 0              0   ...           0   \n",
       "5         0                 0              0   ...           0   \n",
       "\n",
       "     three-musketeers  tombstone  tornado  valkyrie  witch  wizard  x-bow  \\\n",
       "ind                                                                         \n",
       "1                   0          0        0         0      0       0      0   \n",
       "2                   0          0        0         1      0       0      0   \n",
       "3                   0          0        0         0      0       0      0   \n",
       "4                   0          0        0         0      0       0      0   \n",
       "5                   0          0        0         1      0       0      0   \n",
       "\n",
       "     zap  zappies  \n",
       "ind                \n",
       "1      0        0  \n",
       "2      0        0  \n",
       "3      0        0  \n",
       "4      0        0  \n",
       "5      0        0  \n",
       "\n",
       "[5 rows x 93 columns]"
      ]
     },
     "execution_count": 10,
     "metadata": {},
     "output_type": "execute_result"
    }
   ],
   "source": [
    "train.head()"
   ]
  },
  {
   "cell_type": "markdown",
   "metadata": {},
   "source": [
    "# Evaluator"
   ]
  },
  {
   "cell_type": "code",
   "execution_count": 12,
   "metadata": {},
   "outputs": [],
   "source": [
    "# SVR parameters from example\n",
    "params_svr_example = {\n",
    "    \"kernel\": \"rbf\",\n",
    "    \"shrinking\": False,\n",
    "    \"gamma\": 1.0/90,\n",
    "    \"epsilon\": 0.02,\n",
    "    \"C\": 1.0\n",
    "}\n",
    "# SVR R2\n",
    "def compute_svr_r2(labeled_idx, params=params_svr_example):\n",
    "    svr = SVR(**params)\n",
    "    svr.fit(x_train[labeled_idx], y_train[labeled_idx])\n",
    "    y_pred = svr.predict(x_val)\n",
    "    return R2_1(y_val, y_pred)\n"
   ]
  },
  {
   "cell_type": "code",
   "execution_count": 26,
   "metadata": {},
   "outputs": [
    {
     "data": {
      "text/plain": [
       "0.14212817046456894"
      ]
     },
     "execution_count": 26,
     "metadata": {},
     "output_type": "execute_result"
    },
    {
     "data": {
      "image/png": "[encoded data removed]",
      "text/plain": [
       "<Figure size 432x288 with 1 Axes>"
      ]
     },
     "metadata": {
      "needs_background": "light"
     },
     "output_type": "display_data"
    }
   ],
   "source": [
    "def evaluator(idx_segment, params=params_svr_example):\n",
    "    partial_results = []\n",
    "    domain = np.arange(600, 1600, 100)\n",
    "    for cutoff in domain:\n",
    "        result = compute_svr_r2(idx_segment[: cutoff], params=params)\n",
    "        partial_results.append(result)\n",
    "        \n",
    "    plt.plot(domain, partial_results)\n",
    "    return np.array(partial_results).mean()\n",
    "\n",
    "evaluator(idx_segment=baseline_idxs[100:])"
   ]
  },
  {
   "cell_type": "markdown",
   "metadata": {},
   "source": [
    "# To compare"
   ]
  },
  {
   "cell_type": "code",
   "execution_count": 14,
   "metadata": {},
   "outputs": [
    {
     "data": {
      "text/plain": [
       "0.08870205977983259"
      ]
     },
     "execution_count": 14,
     "metadata": {},
     "output_type": "execute_result"
    }
   ],
   "source": [
    "# SVR\n",
    "def compute_svr(labeled_idx, params=params_svr_example):\n",
    "    svr = SVR(**params)\n",
    "    svr.fit(x_train[labeled_idx], y_train[labeled_idx])\n",
    "    return svr.score(x_val, y_val)\n",
    "\n",
    "\n",
    "compute_svr(labeled_idx=baseline_idxs, params=params_svr_example)"
   ]
  },
  {
   "cell_type": "code",
   "execution_count": 15,
   "metadata": {},
   "outputs": [
    {
     "data": {
      "text/plain": [
       "0.09890539201541315"
      ]
     },
     "execution_count": 15,
     "metadata": {},
     "output_type": "execute_result"
    }
   ],
   "source": [
    "# SVR - BAGGING\n",
    "def compute_svr_bagging(labeled_idx, params):\n",
    "    svr = SVR(**params)\n",
    "    brsvr = BaggingRegressor(base_estimator=svr, n_estimators=10, n_jobs=8, max_samples=2/3, bootstrap=False)\n",
    "    brsvr.fit(x_train[labeled_idx], y_train[labeled_idx])\n",
    "    return brsvr.score(x_val, y_val)\n",
    "\n",
    "\n",
    "compute_svr_bagging(labeled_idx=baseline_idxs, params=params_svr_example)"
   ]
  },
  {
   "cell_type": "code",
   "execution_count": 16,
   "metadata": {},
   "outputs": [
    {
     "data": {
      "text/plain": [
       "-0.009059872184214779"
      ]
     },
     "execution_count": 16,
     "metadata": {},
     "output_type": "execute_result"
    }
   ],
   "source": [
    "# XGBRegressor - to compare\n",
    "params_xgb_example = {\n",
    "    'max_depth':3,\n",
    "    'min_child_weight':10,\n",
    "    'learning_rate':0.3,\n",
    "    'subsample':0.5,\n",
    "    'colsample_bytree':0.6,\n",
    "    'obj':'reg:linear',\n",
    "    'n_estimators':1000,\n",
    "    'eta':0.3,\n",
    "    'silent': True,\n",
    "    \"reg\": \"squarederror\"\n",
    "}\n",
    "\n",
    "def compute_xgbregressor(labeled_idx):\n",
    "    dtrain = xgb.DMatrix(x_train[labeled_idx], y_train[labeled_idx])\n",
    "    dval = xgb.DMatrix(x_val, y_val)\n",
    "    evallist  = [(dtrain,'train'),(dval,'eval')]\n",
    "    clf = xgb.train(params=params_xgb_example, dtrain=dtrain, evals=evallist, num_boost_round=1000, verbose_eval=False)\n",
    "    dval = xgb.DMatrix(x_val)\n",
    "    y_pred = clf.predict(dval)\n",
    "    return R2_1(y_val, y_pred)\n",
    "\n",
    "\n",
    "compute_xgbregressor(labeled_idx=baseline_idxs)"
   ]
  },
  {
   "cell_type": "markdown",
   "metadata": {},
   "source": [
    "### Hyperparameters"
   ]
  },
  {
   "cell_type": "code",
   "execution_count": 17,
   "metadata": {},
   "outputs": [],
   "source": [
    "from hyperopt import fmin, tpe, hp, Trials, STATUS_OK\n",
    "from hyperopt.pyll import stochastic\n",
    "from sklearn.metrics import mean_absolute_error, mean_squared_error"
   ]
  },
  {
   "cell_type": "code",
   "execution_count": 18,
   "metadata": {},
   "outputs": [
    {
     "data": {
      "text/plain": [
       "{'C': 4.34069907343485,\n",
       " 'epsilon': 0.23534232084916934,\n",
       " 'gamma': 0.46125690545244846}"
      ]
     },
     "execution_count": 18,
     "metadata": {},
     "output_type": "execute_result"
    }
   ],
   "source": [
    "def upgrade_params(base_params, best_params, verbose=1):\n",
    "    best_params = round_params(best_params)\n",
    "    best_params = {**base_params, **best_params}\n",
    "    best_params[\"verbose\"] = verbose\n",
    "    return best_params\n",
    "\n",
    "hp_params = {\n",
    "    \"gamma\": hp.uniform(\"gamma\", 10**-3, 10**0),\n",
    "    \"epsilon\": hp.uniform(\"epsilon\", 10**-3, 10**0),\n",
    "    \"C\": hp.uniform(\"C\", 10**0, 10**1)   \n",
    "}\n",
    "# example -> operationalization of stochastic expression\n",
    "stochastic.sample(hp_params)"
   ]
  },
  {
   "cell_type": "code",
   "execution_count": 19,
   "metadata": {},
   "outputs": [],
   "source": [
    "def find_best_params_hyperopt(labeled_idx):\n",
    "    base_params = {\n",
    "        \"kernel\": \"rbf\",\n",
    "        \"shrinking\": False\n",
    "    }\n",
    "    def svm_objective(params):\n",
    "        hp_params_svm = {**params, **base_params}\n",
    "        svr_regressor = SVR(**params)    \n",
    "        svr_regressor.fit(x_train[labeled_idx], y_train[labeled_idx])\n",
    "\n",
    "        y_pred = svr_regressor.predict(x_val)\n",
    "        mse = mean_squared_error(y_val, y_pred)\n",
    "        \n",
    "        return{'loss': mse, 'status': STATUS_OK }\n",
    "  \n",
    "    trials = Trials()\n",
    "    best = fmin(\n",
    "        fn = svm_objective,\n",
    "        space = hp_params,\n",
    "        algo = tpe.suggest,\n",
    "        max_evals = 30,\n",
    "        trials = trials\n",
    "    )\n",
    "    # random seed ?\n",
    "    clear_output(wait=True)\n",
    "    \n",
    "    return upgrade_params(base_params=base_params, best_params=best, verbose=0)"
   ]
  },
  {
   "cell_type": "code",
   "execution_count": 20,
   "metadata": {},
   "outputs": [
    {
     "data": {
      "text/plain": [
       "{'kernel': 'rbf',\n",
       " 'shrinking': False,\n",
       " 'C': 2.4061,\n",
       " 'epsilon': 0.1718,\n",
       " 'gamma': 0.8803,\n",
       " 'verbose': 0}"
      ]
     },
     "execution_count": 20,
     "metadata": {},
     "output_type": "execute_result"
    }
   ],
   "source": [
    "best_params = find_best_params_hyperopt(labeled_idx=baseline_idxs)\n",
    "best_params"
   ]
  },
  {
   "cell_type": "code",
   "execution_count": 21,
   "metadata": {},
   "outputs": [
    {
     "data": {
      "text/plain": [
       "-8.407749591232408"
      ]
     },
     "execution_count": 21,
     "metadata": {},
     "output_type": "execute_result"
    },
    {
     "data": {
      "image/png": "[encoded data removed]",
      "text/plain": [
       "<Figure size 432x288 with 1 Axes>"
      ]
     },
     "metadata": {
      "needs_background": "light"
     },
     "output_type": "display_data"
    }
   ],
   "source": [
    "evaluator(idx_segment=baseline_idxs, params=best_params)"
   ]
  },
  {
   "cell_type": "markdown",
   "metadata": {},
   "source": [
    "# Coreset"
   ]
  },
  {
   "cell_type": "code",
   "execution_count": 22,
   "metadata": {},
   "outputs": [],
   "source": [
    "domain = np.arange(x_train.shape[0])"
   ]
  },
  {
   "cell_type": "code",
   "execution_count": null,
   "metadata": {},
   "outputs": [],
   "source": [
    "# nofGames desceanding\n",
    "sizes = (np.arange(10) + 6) * 100\n",
    "initial_labeled_idx = np.arange(sizes[0])\n",
    "initial_unlabeled_idx = np.setdiff1d(domain, initial_labeled_idx)"
   ]
  },
  {
   "cell_type": "code",
   "execution_count": 27,
   "metadata": {},
   "outputs": [],
   "source": [
    "# kmeans\n",
    "initial_labeled_idx = baseline_idxs[100: 700]\n",
    "initial_unlabeled_idx = np.setdiff1d(domain, initial_labeled_idx)"
   ]
  },
  {
   "cell_type": "markdown",
   "metadata": {},
   "source": [
    "# Active Learning"
   ]
  },
  {
   "cell_type": "code",
   "execution_count": 29,
   "metadata": {},
   "outputs": [],
   "source": [
    "from modAL.models import ActiveLearner, CommitteeRegressor\n",
    "from modAL.disagreement import max_std_sampling\n",
    "from tqdm import tqdm"
   ]
  },
  {
   "cell_type": "code",
   "execution_count": 30,
   "metadata": {},
   "outputs": [],
   "source": [
    "def build_committee(params, labeled_idx, n_estimators=5):\n",
    "\n",
    "    learner_list = [ActiveLearner(\n",
    "        estimator=SVR(**params),\n",
    "        X_training=x_train[labeled_idx],\n",
    "        y_training=y_train[labeled_idx],\n",
    "        bootstrap_init=True\n",
    "    ) for idx in np.arange(n_estimators)\n",
    "                   ]\n",
    "    committee = CommitteeRegressor(\n",
    "        learner_list=learner_list,\n",
    "        query_strategy=max_std_sampling\n",
    "    )\n",
    "    return committee\n",
    "\n",
    "\n",
    "def query_committee(committee, unlabeled_idx, n_queries=10, n_inst_in_query=10):\n",
    "    new_idxs = []\n",
    "    for idx in tqdm(np.arange(n_queries)):\n",
    "        query_idx, _ = committee.query(x_train[unlabeled_idx], n_instances=n_inst_in_query)\n",
    "        proper_query_idx = unlabeled_idx[query_idx]\n",
    "        committee.teach(x_train[proper_query_idx], y_train[proper_query_idx].ravel())\n",
    "        unlabeled_idx = np.setdiff1d(unlabeled_idx, [proper_query_idx]) if n_inst_in_query == 1 else np.setdiff1d(unlabeled_idx, proper_query_idx)\n",
    "        new_idxs.append(proper_query_idx)\n",
    "    \n",
    "    new_idxs = np.concatenate(new_idxs)\n",
    "    assert len(new_idxs) == (n_queries * n_inst_in_query)\n",
    "    return new_idxs, unlabeled_idx, committee\n",
    "        "
   ]
  },
  {
   "cell_type": "markdown",
   "metadata": {},
   "source": [
    "## Cycle"
   ]
  },
  {
   "cell_type": "code",
   "execution_count": null,
   "metadata": {},
   "outputs": [],
   "source": [
    "def update_dict(labeled_idx, committee, params):\n",
    "    step_dict = dict(zip(col_names, np.zeros(len(col_names))))\n",
    "    step_dict[\"svm\"] = compute_svr(labeled_idx, params = params)\n",
    "    step_dict[\"svr_bagging\"] = compute_svr_bagging(labeled_idx, params=params)\n",
    "    step_dict[\"xgbregressor\"] = compute_xgbregressor(labeled_idx)\n",
    "    step_dict[\"committee_initial\"] = R2_1(y_val, committee.predict(x_val))\n"
   ]
  },
  {
   "cell_type": "code",
   "execution_count": 1,
   "metadata": {},
   "outputs": [],
   "source": [
    "# dwie wersje, wybieram parametry początkowe na początku pętli, albo z zewnątrz\n",
    "def al_in_cycle(labeled_idx, unlabeled_idx, params, n_loop=10):\n",
    "    markered_path = \"results_idxs/{}\".format(datetime.now().strftime(\"%Y%m%d-%H%M%S\"))\n",
    "    \n",
    "    param_name = [\"epsilon\", \"C\", \"gamma\"]\n",
    "    sequential_params = [[params[name] for name in param_name]]\n",
    "    df_results = pd.DataFrame(columns=[\"svm\", \"svr_bagging\", \"xgbregressor\", \"committee_before\", \"committee_after\"])    \n",
    "    \n",
    "    \n",
    "    for step in np.arange(n_loop):\n",
    "        np.save(file=\"{}/idxs_size_{}\".format(markered_path, 600 + 100*step), arr=labeled_idx)\n",
    "                \n",
    "        # get committee of svr\n",
    "        committee = build_committee(params=params, labeled_idx=labeled_idx)\n",
    "        step_dict = get_step_dict(labeled_idx, committee, params)\n",
    "        \n",
    "        # committee is updating inside query function\n",
    "        print(\"this is step nb: {}\".format(step), df_results)\n",
    "        new_idxs, unlabeled_idx, committee = query_committee(committee, unlabeled_idx, n_queries=5, n_inst_in_query=20)\n",
    "        \n",
    "        #update dataframe with results\n",
    "        step_dict[\"committee_queried\"] = R2_1(y_val, committee.predict(x_val))\n",
    "        df_results = df_results.append(pd.Series(step_dict), ignore_index=True)\n",
    "\n",
    "        # update idx, unlabeled_idx have been updated inside query loop\n",
    "        labeled_idx = np.concatenate([labeled_idx, new_idxs])\n",
    "        \n",
    "#         params = find_best_params_hyperopt(labeled_idx=labeled_idx)\n",
    "        sequential_params.append([params[name] for name in param_name])\n",
    "\n",
    "        \n",
    "    np.save(file=\"{}/idxs_size_{}\".format(markered_path, 600 + 100*n_loop), arr=labeled_idx)\n",
    "    # get committee of svr\n",
    "    committee = build_committee(params=params, labeled_idx=labeled_idx)\n",
    "    step_dict = get_step_dict(labeled_idx, committee, params)\n",
    "    \n",
    "    #update dataframe with last results\n",
    "    step_dict[\"committee_queried\"] = step_dict[\"committee_initial\"]\n",
    "    df_results = df_results.append(pd.Series(step_dict), ignore_index=True)\n",
    "        \n",
    "    return labeled_idx, sequential_params, df_results"
   ]
  },
  {
   "cell_type": "code",
   "execution_count": 32,
   "metadata": {},
   "outputs": [
    {
     "name": "stderr",
     "output_type": "stream",
     "text": [
      "  0%|          | 0/5 [00:00<?, ?it/s]"
     ]
    },
    {
     "name": "stdout",
     "output_type": "stream",
     "text": [
      "this is step nb: 0\n",
      "      svm  svr_bagging  xgbregressor  committee_before  committee_after\n",
      "0  0.1348      0.13382      0.030457          0.123556              0.0\n"
     ]
    },
    {
     "name": "stderr",
     "output_type": "stream",
     "text": [
      "100%|██████████| 5/5 [01:00<00:00, 12.20s/it]\n",
      "  0%|          | 0/5 [00:00<?, ?it/s]"
     ]
    },
    {
     "name": "stdout",
     "output_type": "stream",
     "text": [
      "this is step nb: 1\n",
      "        svm  svr_bagging  xgbregressor  committee_before  committee_after\n",
      "0  0.134800     0.133820      0.030457          0.123556         0.000000\n",
      "1  0.109566     0.107554     -0.144505          0.098920         0.109566\n"
     ]
    },
    {
     "name": "stderr",
     "output_type": "stream",
     "text": [
      "100%|██████████| 5/5 [01:24<00:00, 16.82s/it]\n",
      "  0%|          | 0/5 [00:00<?, ?it/s]"
     ]
    },
    {
     "name": "stdout",
     "output_type": "stream",
     "text": [
      "this is step nb: 2\n",
      "        svm  svr_bagging  xgbregressor  committee_before  committee_after\n",
      "0  0.134800     0.133820      0.030457          0.123556         0.000000\n",
      "1  0.109566     0.107554     -0.144505          0.098920         0.109566\n",
      "2  0.132216     0.122569     -0.171722          0.117752         0.132216\n"
     ]
    },
    {
     "name": "stderr",
     "output_type": "stream",
     "text": [
      "100%|██████████| 5/5 [01:43<00:00, 20.66s/it]\n",
      "  0%|          | 0/5 [00:00<?, ?it/s]"
     ]
    },
    {
     "name": "stdout",
     "output_type": "stream",
     "text": [
      "this is step nb: 3\n",
      "        svm  svr_bagging  xgbregressor  committee_before  committee_after\n",
      "0  0.134800     0.133820      0.030457          0.123556         0.000000\n",
      "1  0.109566     0.107554     -0.144505          0.098920         0.109566\n",
      "2  0.132216     0.122569     -0.171722          0.117752         0.132216\n",
      "3  0.133073     0.142928     -0.248260          0.108564         0.133073\n"
     ]
    },
    {
     "name": "stderr",
     "output_type": "stream",
     "text": [
      "100%|██████████| 5/5 [02:07<00:00, 25.48s/it]\n",
      "  0%|          | 0/5 [00:00<?, ?it/s]"
     ]
    },
    {
     "name": "stdout",
     "output_type": "stream",
     "text": [
      "this is step nb: 4\n",
      "        svm  svr_bagging  xgbregressor  committee_before  committee_after\n",
      "0  0.134800     0.133820      0.030457          0.123556         0.000000\n",
      "1  0.109566     0.107554     -0.144505          0.098920         0.109566\n",
      "2  0.132216     0.122569     -0.171722          0.117752         0.132216\n",
      "3  0.133073     0.142928     -0.248260          0.108564         0.133073\n",
      "4 -0.075148     0.047233     -0.152929         -0.116266        -0.075148\n"
     ]
    },
    {
     "name": "stderr",
     "output_type": "stream",
     "text": [
      "100%|██████████| 5/5 [02:29<00:00, 29.82s/it]\n",
      "  0%|          | 0/5 [00:00<?, ?it/s]"
     ]
    },
    {
     "name": "stdout",
     "output_type": "stream",
     "text": [
      "this is step nb: 5\n",
      "        svm  svr_bagging  xgbregressor  committee_before  committee_after\n",
      "0  0.134800     0.133820      0.030457          0.123556         0.000000\n",
      "1  0.109566     0.107554     -0.144505          0.098920         0.109566\n",
      "2  0.132216     0.122569     -0.171722          0.117752         0.132216\n",
      "3  0.133073     0.142928     -0.248260          0.108564         0.133073\n",
      "4 -0.075148     0.047233     -0.152929         -0.116266        -0.075148\n",
      "5  0.045111     0.075261     -0.140512          0.019267         0.045111\n"
     ]
    },
    {
     "name": "stderr",
     "output_type": "stream",
     "text": [
      "100%|██████████| 5/5 [02:48<00:00, 33.88s/it]\n",
      "  0%|          | 0/5 [00:00<?, ?it/s]"
     ]
    },
    {
     "name": "stdout",
     "output_type": "stream",
     "text": [
      "this is step nb: 6\n",
      "        svm  svr_bagging  xgbregressor  committee_before  committee_after\n",
      "0  0.134800     0.133820      0.030457          0.123556         0.000000\n",
      "1  0.109566     0.107554     -0.144505          0.098920         0.109566\n",
      "2  0.132216     0.122569     -0.171722          0.117752         0.132216\n",
      "3  0.133073     0.142928     -0.248260          0.108564         0.133073\n",
      "4 -0.075148     0.047233     -0.152929         -0.116266        -0.075148\n",
      "5  0.045111     0.075261     -0.140512          0.019267         0.045111\n",
      "6  0.110173     0.112290     -0.097071          0.057635         0.110173\n"
     ]
    },
    {
     "name": "stderr",
     "output_type": "stream",
     "text": [
      "100%|██████████| 5/5 [03:12<00:00, 38.55s/it]\n",
      "  0%|          | 0/5 [00:00<?, ?it/s]"
     ]
    },
    {
     "name": "stdout",
     "output_type": "stream",
     "text": [
      "this is step nb: 7\n",
      "        svm  svr_bagging  xgbregressor  committee_before  committee_after\n",
      "0  0.134800     0.133820      0.030457          0.123556         0.000000\n",
      "1  0.109566     0.107554     -0.144505          0.098920         0.109566\n",
      "2  0.132216     0.122569     -0.171722          0.117752         0.132216\n",
      "3  0.133073     0.142928     -0.248260          0.108564         0.133073\n",
      "4 -0.075148     0.047233     -0.152929         -0.116266        -0.075148\n",
      "5  0.045111     0.075261     -0.140512          0.019267         0.045111\n",
      "6  0.110173     0.112290     -0.097071          0.057635         0.110173\n",
      "7  0.097507     0.108384     -0.155341          0.059008         0.097507\n"
     ]
    },
    {
     "name": "stderr",
     "output_type": "stream",
     "text": [
      "100%|██████████| 5/5 [03:31<00:00, 42.20s/it]\n",
      "  0%|          | 0/5 [00:00<?, ?it/s]"
     ]
    },
    {
     "name": "stdout",
     "output_type": "stream",
     "text": [
      "this is step nb: 8\n",
      "        svm  svr_bagging  xgbregressor  committee_before  committee_after\n",
      "0  0.134800     0.133820      0.030457          0.123556         0.000000\n",
      "1  0.109566     0.107554     -0.144505          0.098920         0.109566\n",
      "2  0.132216     0.122569     -0.171722          0.117752         0.132216\n",
      "3  0.133073     0.142928     -0.248260          0.108564         0.133073\n",
      "4 -0.075148     0.047233     -0.152929         -0.116266        -0.075148\n",
      "5  0.045111     0.075261     -0.140512          0.019267         0.045111\n",
      "6  0.110173     0.112290     -0.097071          0.057635         0.110173\n",
      "7  0.097507     0.108384     -0.155341          0.059008         0.097507\n",
      "8  0.125656     0.146298     -0.186432          0.131710         0.125656\n"
     ]
    },
    {
     "name": "stderr",
     "output_type": "stream",
     "text": [
      "100%|██████████| 5/5 [03:49<00:00, 45.97s/it]\n",
      "  0%|          | 0/5 [00:00<?, ?it/s]"
     ]
    },
    {
     "name": "stdout",
     "output_type": "stream",
     "text": [
      "this is step nb: 9\n",
      "        svm  svr_bagging  xgbregressor  committee_before  committee_after\n",
      "0  0.134800     0.133820      0.030457          0.123556         0.000000\n",
      "1  0.109566     0.107554     -0.144505          0.098920         0.109566\n",
      "2  0.132216     0.122569     -0.171722          0.117752         0.132216\n",
      "3  0.133073     0.142928     -0.248260          0.108564         0.133073\n",
      "4 -0.075148     0.047233     -0.152929         -0.116266        -0.075148\n",
      "5  0.045111     0.075261     -0.140512          0.019267         0.045111\n",
      "6  0.110173     0.112290     -0.097071          0.057635         0.110173\n",
      "7  0.097507     0.108384     -0.155341          0.059008         0.097507\n",
      "8  0.125656     0.146298     -0.186432          0.131710         0.125656\n",
      "9  0.131010     0.128326     -0.113989          0.143659         0.131010\n"
     ]
    },
    {
     "name": "stderr",
     "output_type": "stream",
     "text": [
      "100%|██████████| 5/5 [04:07<00:00, 49.54s/it]\n",
      "  0%|          | 0/5 [00:00<?, ?it/s]"
     ]
    },
    {
     "name": "stdout",
     "output_type": "stream",
     "text": [
      "this is step nb: 10\n",
      "         svm  svr_bagging  xgbregressor  committee_before  committee_after\n",
      "0   0.134800     0.133820      0.030457          0.123556         0.000000\n",
      "1   0.109566     0.107554     -0.144505          0.098920         0.109566\n",
      "2   0.132216     0.122569     -0.171722          0.117752         0.132216\n",
      "3   0.133073     0.142928     -0.248260          0.108564         0.133073\n",
      "4  -0.075148     0.047233     -0.152929         -0.116266        -0.075148\n",
      "5   0.045111     0.075261     -0.140512          0.019267         0.045111\n",
      "6   0.110173     0.112290     -0.097071          0.057635         0.110173\n",
      "7   0.097507     0.108384     -0.155341          0.059008         0.097507\n",
      "8   0.125656     0.146298     -0.186432          0.131710         0.125656\n",
      "9   0.131010     0.128326     -0.113989          0.143659         0.131010\n",
      "10  0.134128     0.153063     -0.057568          0.088818         0.134128\n"
     ]
    },
    {
     "name": "stderr",
     "output_type": "stream",
     "text": [
      "100%|██████████| 5/5 [04:24<00:00, 53.05s/it]\n",
      "  0%|          | 0/5 [00:00<?, ?it/s]"
     ]
    },
    {
     "name": "stdout",
     "output_type": "stream",
     "text": [
      "this is step nb: 11\n",
      "         svm  svr_bagging  xgbregressor  committee_before  committee_after\n",
      "0   0.134800     0.133820      0.030457          0.123556         0.000000\n",
      "1   0.109566     0.107554     -0.144505          0.098920         0.109566\n",
      "2   0.132216     0.122569     -0.171722          0.117752         0.132216\n",
      "3   0.133073     0.142928     -0.248260          0.108564         0.133073\n",
      "4  -0.075148     0.047233     -0.152929         -0.116266        -0.075148\n",
      "5   0.045111     0.075261     -0.140512          0.019267         0.045111\n",
      "6   0.110173     0.112290     -0.097071          0.057635         0.110173\n",
      "7   0.097507     0.108384     -0.155341          0.059008         0.097507\n",
      "8   0.125656     0.146298     -0.186432          0.131710         0.125656\n",
      "9   0.131010     0.128326     -0.113989          0.143659         0.131010\n",
      "10  0.134128     0.153063     -0.057568          0.088818         0.134128\n",
      "11  0.159740     0.168539     -0.086358          0.142409         0.159740\n"
     ]
    },
    {
     "name": "stderr",
     "output_type": "stream",
     "text": [
      "100%|██████████| 5/5 [04:41<00:00, 56.40s/it]\n",
      "  0%|          | 0/5 [00:00<?, ?it/s]"
     ]
    },
    {
     "name": "stdout",
     "output_type": "stream",
     "text": [
      "this is step nb: 12\n",
      "         svm  svr_bagging  xgbregressor  committee_before  committee_after\n",
      "0   0.134800     0.133820      0.030457          0.123556         0.000000\n",
      "1   0.109566     0.107554     -0.144505          0.098920         0.109566\n",
      "2   0.132216     0.122569     -0.171722          0.117752         0.132216\n",
      "3   0.133073     0.142928     -0.248260          0.108564         0.133073\n",
      "4  -0.075148     0.047233     -0.152929         -0.116266        -0.075148\n",
      "5   0.045111     0.075261     -0.140512          0.019267         0.045111\n",
      "6   0.110173     0.112290     -0.097071          0.057635         0.110173\n",
      "7   0.097507     0.108384     -0.155341          0.059008         0.097507\n",
      "8   0.125656     0.146298     -0.186432          0.131710         0.125656\n",
      "9   0.131010     0.128326     -0.113989          0.143659         0.131010\n",
      "10  0.134128     0.153063     -0.057568          0.088818         0.134128\n",
      "11  0.159740     0.168539     -0.086358          0.142409         0.159740\n",
      "12  0.187018     0.178372     -0.028104          0.162877         0.187018\n"
     ]
    },
    {
     "name": "stderr",
     "output_type": "stream",
     "text": [
      "100%|██████████| 5/5 [05:05<00:00, 61.10s/it]\n",
      "  0%|          | 0/5 [00:00<?, ?it/s]"
     ]
    },
    {
     "name": "stdout",
     "output_type": "stream",
     "text": [
      "this is step nb: 13\n",
      "         svm  svr_bagging  xgbregressor  committee_before  committee_after\n",
      "0   0.134800     0.133820      0.030457          0.123556         0.000000\n",
      "1   0.109566     0.107554     -0.144505          0.098920         0.109566\n",
      "2   0.132216     0.122569     -0.171722          0.117752         0.132216\n",
      "3   0.133073     0.142928     -0.248260          0.108564         0.133073\n",
      "4  -0.075148     0.047233     -0.152929         -0.116266        -0.075148\n",
      "5   0.045111     0.075261     -0.140512          0.019267         0.045111\n",
      "6   0.110173     0.112290     -0.097071          0.057635         0.110173\n",
      "7   0.097507     0.108384     -0.155341          0.059008         0.097507\n",
      "8   0.125656     0.146298     -0.186432          0.131710         0.125656\n",
      "9   0.131010     0.128326     -0.113989          0.143659         0.131010\n",
      "10  0.134128     0.153063     -0.057568          0.088818         0.134128\n",
      "11  0.159740     0.168539     -0.086358          0.142409         0.159740\n",
      "12  0.187018     0.178372     -0.028104          0.162877         0.187018\n",
      "13  0.180402     0.169724     -0.073352          0.168856         0.180402\n"
     ]
    },
    {
     "name": "stderr",
     "output_type": "stream",
     "text": [
      "100%|██████████| 5/5 [05:23<00:00, 64.92s/it]\n",
      "  0%|          | 0/5 [00:00<?, ?it/s]"
     ]
    },
    {
     "name": "stdout",
     "output_type": "stream",
     "text": [
      "this is step nb: 14\n",
      "         svm  svr_bagging  xgbregressor  committee_before  committee_after\n",
      "0   0.134800     0.133820      0.030457          0.123556         0.000000\n",
      "1   0.109566     0.107554     -0.144505          0.098920         0.109566\n",
      "2   0.132216     0.122569     -0.171722          0.117752         0.132216\n",
      "3   0.133073     0.142928     -0.248260          0.108564         0.133073\n",
      "4  -0.075148     0.047233     -0.152929         -0.116266        -0.075148\n",
      "5   0.045111     0.075261     -0.140512          0.019267         0.045111\n",
      "6   0.110173     0.112290     -0.097071          0.057635         0.110173\n",
      "7   0.097507     0.108384     -0.155341          0.059008         0.097507\n",
      "8   0.125656     0.146298     -0.186432          0.131710         0.125656\n",
      "9   0.131010     0.128326     -0.113989          0.143659         0.131010\n",
      "10  0.134128     0.153063     -0.057568          0.088818         0.134128\n",
      "11  0.159740     0.168539     -0.086358          0.142409         0.159740\n",
      "12  0.187018     0.178372     -0.028104          0.162877         0.187018\n",
      "13  0.180402     0.169724     -0.073352          0.168856         0.180402\n",
      "14  0.183356     0.177583     -0.053066          0.164289         0.183356\n"
     ]
    },
    {
     "name": "stderr",
     "output_type": "stream",
     "text": [
      "100%|██████████| 5/5 [05:46<00:00, 69.13s/it]\n",
      "  0%|          | 0/5 [00:00<?, ?it/s]"
     ]
    },
    {
     "name": "stdout",
     "output_type": "stream",
     "text": [
      "this is step nb: 15\n",
      "         svm  svr_bagging  xgbregressor  committee_before  committee_after\n",
      "0   0.134800     0.133820      0.030457          0.123556         0.000000\n",
      "1   0.109566     0.107554     -0.144505          0.098920         0.109566\n",
      "2   0.132216     0.122569     -0.171722          0.117752         0.132216\n",
      "3   0.133073     0.142928     -0.248260          0.108564         0.133073\n",
      "4  -0.075148     0.047233     -0.152929         -0.116266        -0.075148\n",
      "5   0.045111     0.075261     -0.140512          0.019267         0.045111\n",
      "6   0.110173     0.112290     -0.097071          0.057635         0.110173\n",
      "7   0.097507     0.108384     -0.155341          0.059008         0.097507\n",
      "8   0.125656     0.146298     -0.186432          0.131710         0.125656\n",
      "9   0.131010     0.128326     -0.113989          0.143659         0.131010\n",
      "10  0.134128     0.153063     -0.057568          0.088818         0.134128\n",
      "11  0.159740     0.168539     -0.086358          0.142409         0.159740\n",
      "12  0.187018     0.178372     -0.028104          0.162877         0.187018\n",
      "13  0.180402     0.169724     -0.073352          0.168856         0.180402\n",
      "14  0.183356     0.177583     -0.053066          0.164289         0.183356\n",
      "15  0.186517     0.172114     -0.030691          0.133269         0.186517\n"
     ]
    },
    {
     "name": "stderr",
     "output_type": "stream",
     "text": [
      "100%|██████████| 5/5 [06:06<00:00, 73.40s/it]\n",
      "  0%|          | 0/5 [00:00<?, ?it/s]"
     ]
    },
    {
     "name": "stdout",
     "output_type": "stream",
     "text": [
      "this is step nb: 16\n",
      "         svm  svr_bagging  xgbregressor  committee_before  committee_after\n",
      "0   0.134800     0.133820      0.030457          0.123556         0.000000\n",
      "1   0.109566     0.107554     -0.144505          0.098920         0.109566\n",
      "2   0.132216     0.122569     -0.171722          0.117752         0.132216\n",
      "3   0.133073     0.142928     -0.248260          0.108564         0.133073\n",
      "4  -0.075148     0.047233     -0.152929         -0.116266        -0.075148\n",
      "5   0.045111     0.075261     -0.140512          0.019267         0.045111\n",
      "6   0.110173     0.112290     -0.097071          0.057635         0.110173\n",
      "7   0.097507     0.108384     -0.155341          0.059008         0.097507\n",
      "8   0.125656     0.146298     -0.186432          0.131710         0.125656\n",
      "9   0.131010     0.128326     -0.113989          0.143659         0.131010\n",
      "10  0.134128     0.153063     -0.057568          0.088818         0.134128\n",
      "11  0.159740     0.168539     -0.086358          0.142409         0.159740\n",
      "12  0.187018     0.178372     -0.028104          0.162877         0.187018\n",
      "13  0.180402     0.169724     -0.073352          0.168856         0.180402\n",
      "14  0.183356     0.177583     -0.053066          0.164289         0.183356\n",
      "15  0.186517     0.172114     -0.030691          0.133269         0.186517\n",
      "16  0.195770     0.179602     -0.009683          0.172642         0.195770\n"
     ]
    },
    {
     "name": "stderr",
     "output_type": "stream",
     "text": [
      "100%|██████████| 5/5 [06:22<00:00, 76.58s/it]\n",
      "  0%|          | 0/5 [00:00<?, ?it/s]"
     ]
    },
    {
     "name": "stdout",
     "output_type": "stream",
     "text": [
      "this is step nb: 17\n",
      "         svm  svr_bagging  xgbregressor  committee_before  committee_after\n",
      "0   0.134800     0.133820      0.030457          0.123556         0.000000\n",
      "1   0.109566     0.107554     -0.144505          0.098920         0.109566\n",
      "2   0.132216     0.122569     -0.171722          0.117752         0.132216\n",
      "3   0.133073     0.142928     -0.248260          0.108564         0.133073\n",
      "4  -0.075148     0.047233     -0.152929         -0.116266        -0.075148\n",
      "5   0.045111     0.075261     -0.140512          0.019267         0.045111\n",
      "6   0.110173     0.112290     -0.097071          0.057635         0.110173\n",
      "7   0.097507     0.108384     -0.155341          0.059008         0.097507\n",
      "8   0.125656     0.146298     -0.186432          0.131710         0.125656\n",
      "9   0.131010     0.128326     -0.113989          0.143659         0.131010\n",
      "10  0.134128     0.153063     -0.057568          0.088818         0.134128\n",
      "11  0.159740     0.168539     -0.086358          0.142409         0.159740\n",
      "12  0.187018     0.178372     -0.028104          0.162877         0.187018\n",
      "13  0.180402     0.169724     -0.073352          0.168856         0.180402\n",
      "14  0.183356     0.177583     -0.053066          0.164289         0.183356\n",
      "15  0.186517     0.172114     -0.030691          0.133269         0.186517\n",
      "16  0.195770     0.179602     -0.009683          0.172642         0.195770\n",
      "17  0.205537     0.192262     -0.088356          0.178060         0.205537\n"
     ]
    },
    {
     "name": "stderr",
     "output_type": "stream",
     "text": [
      "100%|██████████| 5/5 [06:39<00:00, 79.99s/it]\n",
      "  0%|          | 0/5 [00:00<?, ?it/s]"
     ]
    },
    {
     "name": "stdout",
     "output_type": "stream",
     "text": [
      "this is step nb: 18\n",
      "         svm  svr_bagging  xgbregressor  committee_before  committee_after\n",
      "0   0.134800     0.133820      0.030457          0.123556         0.000000\n",
      "1   0.109566     0.107554     -0.144505          0.098920         0.109566\n",
      "2   0.132216     0.122569     -0.171722          0.117752         0.132216\n",
      "3   0.133073     0.142928     -0.248260          0.108564         0.133073\n",
      "4  -0.075148     0.047233     -0.152929         -0.116266        -0.075148\n",
      "5   0.045111     0.075261     -0.140512          0.019267         0.045111\n",
      "6   0.110173     0.112290     -0.097071          0.057635         0.110173\n",
      "7   0.097507     0.108384     -0.155341          0.059008         0.097507\n",
      "8   0.125656     0.146298     -0.186432          0.131710         0.125656\n",
      "9   0.131010     0.128326     -0.113989          0.143659         0.131010\n",
      "10  0.134128     0.153063     -0.057568          0.088818         0.134128\n",
      "11  0.159740     0.168539     -0.086358          0.142409         0.159740\n",
      "12  0.187018     0.178372     -0.028104          0.162877         0.187018\n",
      "13  0.180402     0.169724     -0.073352          0.168856         0.180402\n",
      "14  0.183356     0.177583     -0.053066          0.164289         0.183356\n",
      "15  0.186517     0.172114     -0.030691          0.133269         0.186517\n",
      "16  0.195770     0.179602     -0.009683          0.172642         0.195770\n",
      "17  0.205537     0.192262     -0.088356          0.178060         0.205537\n",
      "18  0.210381     0.196806     -0.045678          0.191250         0.210381\n"
     ]
    },
    {
     "name": "stderr",
     "output_type": "stream",
     "text": [
      "100%|██████████| 5/5 [07:01<00:00, 84.33s/it]\n",
      "  0%|          | 0/5 [00:00<?, ?it/s]"
     ]
    },
    {
     "name": "stdout",
     "output_type": "stream",
     "text": [
      "this is step nb: 19\n",
      "         svm  svr_bagging  xgbregressor  committee_before  committee_after\n",
      "0   0.134800     0.133820      0.030457          0.123556         0.000000\n",
      "1   0.109566     0.107554     -0.144505          0.098920         0.109566\n",
      "2   0.132216     0.122569     -0.171722          0.117752         0.132216\n",
      "3   0.133073     0.142928     -0.248260          0.108564         0.133073\n",
      "4  -0.075148     0.047233     -0.152929         -0.116266        -0.075148\n",
      "5   0.045111     0.075261     -0.140512          0.019267         0.045111\n",
      "6   0.110173     0.112290     -0.097071          0.057635         0.110173\n",
      "7   0.097507     0.108384     -0.155341          0.059008         0.097507\n",
      "8   0.125656     0.146298     -0.186432          0.131710         0.125656\n",
      "9   0.131010     0.128326     -0.113989          0.143659         0.131010\n",
      "10  0.134128     0.153063     -0.057568          0.088818         0.134128\n",
      "11  0.159740     0.168539     -0.086358          0.142409         0.159740\n",
      "12  0.187018     0.178372     -0.028104          0.162877         0.187018\n",
      "13  0.180402     0.169724     -0.073352          0.168856         0.180402\n",
      "14  0.183356     0.177583     -0.053066          0.164289         0.183356\n",
      "15  0.186517     0.172114     -0.030691          0.133269         0.186517\n",
      "16  0.195770     0.179602     -0.009683          0.172642         0.195770\n",
      "17  0.205537     0.192262     -0.088356          0.178060         0.205537\n",
      "18  0.210381     0.196806     -0.045678          0.191250         0.210381\n",
      "19  0.217746     0.207732     -0.023366          0.204849         0.217746\n"
     ]
    },
    {
     "name": "stderr",
     "output_type": "stream",
     "text": [
      "100%|██████████| 5/5 [07:17<00:00, 87.43s/it]\n",
      "  0%|          | 0/5 [00:00<?, ?it/s]"
     ]
    },
    {
     "name": "stdout",
     "output_type": "stream",
     "text": [
      "this is step nb: 20\n",
      "         svm  svr_bagging  xgbregressor  committee_before  committee_after\n",
      "0   0.134800     0.133820      0.030457          0.123556         0.000000\n",
      "1   0.109566     0.107554     -0.144505          0.098920         0.109566\n",
      "2   0.132216     0.122569     -0.171722          0.117752         0.132216\n",
      "3   0.133073     0.142928     -0.248260          0.108564         0.133073\n",
      "4  -0.075148     0.047233     -0.152929         -0.116266        -0.075148\n",
      "5   0.045111     0.075261     -0.140512          0.019267         0.045111\n",
      "6   0.110173     0.112290     -0.097071          0.057635         0.110173\n",
      "7   0.097507     0.108384     -0.155341          0.059008         0.097507\n",
      "8   0.125656     0.146298     -0.186432          0.131710         0.125656\n",
      "9   0.131010     0.128326     -0.113989          0.143659         0.131010\n",
      "10  0.134128     0.153063     -0.057568          0.088818         0.134128\n",
      "11  0.159740     0.168539     -0.086358          0.142409         0.159740\n",
      "12  0.187018     0.178372     -0.028104          0.162877         0.187018\n",
      "13  0.180402     0.169724     -0.073352          0.168856         0.180402\n",
      "14  0.183356     0.177583     -0.053066          0.164289         0.183356\n",
      "15  0.186517     0.172114     -0.030691          0.133269         0.186517\n",
      "16  0.195770     0.179602     -0.009683          0.172642         0.195770\n",
      "17  0.205537     0.192262     -0.088356          0.178060         0.205537\n",
      "18  0.210381     0.196806     -0.045678          0.191250         0.210381\n",
      "19  0.217746     0.207732     -0.023366          0.204849         0.217746\n",
      "20  0.217263     0.207486     -0.034472          0.196964         0.217263\n"
     ]
    },
    {
     "name": "stderr",
     "output_type": "stream",
     "text": [
      "100%|██████████| 5/5 [07:37<00:00, 91.43s/it]\n",
      "  0%|          | 0/5 [00:00<?, ?it/s]"
     ]
    },
    {
     "name": "stdout",
     "output_type": "stream",
     "text": [
      "this is step nb: 21\n",
      "         svm  svr_bagging  xgbregressor  committee_before  committee_after\n",
      "0   0.134800     0.133820      0.030457          0.123556         0.000000\n",
      "1   0.109566     0.107554     -0.144505          0.098920         0.109566\n",
      "2   0.132216     0.122569     -0.171722          0.117752         0.132216\n",
      "3   0.133073     0.142928     -0.248260          0.108564         0.133073\n",
      "4  -0.075148     0.047233     -0.152929         -0.116266        -0.075148\n",
      "5   0.045111     0.075261     -0.140512          0.019267         0.045111\n",
      "6   0.110173     0.112290     -0.097071          0.057635         0.110173\n",
      "7   0.097507     0.108384     -0.155341          0.059008         0.097507\n",
      "8   0.125656     0.146298     -0.186432          0.131710         0.125656\n",
      "9   0.131010     0.128326     -0.113989          0.143659         0.131010\n",
      "10  0.134128     0.153063     -0.057568          0.088818         0.134128\n",
      "11  0.159740     0.168539     -0.086358          0.142409         0.159740\n",
      "12  0.187018     0.178372     -0.028104          0.162877         0.187018\n",
      "13  0.180402     0.169724     -0.073352          0.168856         0.180402\n",
      "14  0.183356     0.177583     -0.053066          0.164289         0.183356\n",
      "15  0.186517     0.172114     -0.030691          0.133269         0.186517\n",
      "16  0.195770     0.179602     -0.009683          0.172642         0.195770\n",
      "17  0.205537     0.192262     -0.088356          0.178060         0.205537\n",
      "18  0.210381     0.196806     -0.045678          0.191250         0.210381\n",
      "19  0.217746     0.207732     -0.023366          0.204849         0.217746\n",
      "20  0.217263     0.207486     -0.034472          0.196964         0.217263\n",
      "21  0.212912     0.202734     -0.002111          0.207823         0.212912\n"
     ]
    },
    {
     "name": "stderr",
     "output_type": "stream",
     "text": [
      "100%|██████████| 5/5 [07:52<00:00, 94.49s/it]\n",
      "  0%|          | 0/5 [00:00<?, ?it/s]"
     ]
    },
    {
     "name": "stdout",
     "output_type": "stream",
     "text": [
      "this is step nb: 22\n",
      "         svm  svr_bagging  xgbregressor  committee_before  committee_after\n",
      "0   0.134800     0.133820      0.030457          0.123556         0.000000\n",
      "1   0.109566     0.107554     -0.144505          0.098920         0.109566\n",
      "2   0.132216     0.122569     -0.171722          0.117752         0.132216\n",
      "3   0.133073     0.142928     -0.248260          0.108564         0.133073\n",
      "4  -0.075148     0.047233     -0.152929         -0.116266        -0.075148\n",
      "5   0.045111     0.075261     -0.140512          0.019267         0.045111\n",
      "6   0.110173     0.112290     -0.097071          0.057635         0.110173\n",
      "7   0.097507     0.108384     -0.155341          0.059008         0.097507\n",
      "8   0.125656     0.146298     -0.186432          0.131710         0.125656\n",
      "9   0.131010     0.128326     -0.113989          0.143659         0.131010\n",
      "10  0.134128     0.153063     -0.057568          0.088818         0.134128\n",
      "11  0.159740     0.168539     -0.086358          0.142409         0.159740\n",
      "12  0.187018     0.178372     -0.028104          0.162877         0.187018\n",
      "13  0.180402     0.169724     -0.073352          0.168856         0.180402\n",
      "14  0.183356     0.177583     -0.053066          0.164289         0.183356\n",
      "15  0.186517     0.172114     -0.030691          0.133269         0.186517\n",
      "16  0.195770     0.179602     -0.009683          0.172642         0.195770\n",
      "17  0.205537     0.192262     -0.088356          0.178060         0.205537\n",
      "18  0.210381     0.196806     -0.045678          0.191250         0.210381\n",
      "19  0.217746     0.207732     -0.023366          0.204849         0.217746\n",
      "20  0.217263     0.207486     -0.034472          0.196964         0.217263\n",
      "21  0.212912     0.202734     -0.002111          0.207823         0.212912\n",
      "22  0.218991     0.204435      0.008312          0.204454         0.218991\n"
     ]
    },
    {
     "name": "stderr",
     "output_type": "stream",
     "text": [
      "100%|██████████| 5/5 [08:12<00:00, 98.44s/it]\n",
      "  0%|          | 0/5 [00:00<?, ?it/s]"
     ]
    },
    {
     "name": "stdout",
     "output_type": "stream",
     "text": [
      "this is step nb: 23\n",
      "         svm  svr_bagging  xgbregressor  committee_before  committee_after\n",
      "0   0.134800     0.133820      0.030457          0.123556         0.000000\n",
      "1   0.109566     0.107554     -0.144505          0.098920         0.109566\n",
      "2   0.132216     0.122569     -0.171722          0.117752         0.132216\n",
      "3   0.133073     0.142928     -0.248260          0.108564         0.133073\n",
      "4  -0.075148     0.047233     -0.152929         -0.116266        -0.075148\n",
      "5   0.045111     0.075261     -0.140512          0.019267         0.045111\n",
      "6   0.110173     0.112290     -0.097071          0.057635         0.110173\n",
      "7   0.097507     0.108384     -0.155341          0.059008         0.097507\n",
      "8   0.125656     0.146298     -0.186432          0.131710         0.125656\n",
      "9   0.131010     0.128326     -0.113989          0.143659         0.131010\n",
      "10  0.134128     0.153063     -0.057568          0.088818         0.134128\n",
      "11  0.159740     0.168539     -0.086358          0.142409         0.159740\n",
      "12  0.187018     0.178372     -0.028104          0.162877         0.187018\n",
      "13  0.180402     0.169724     -0.073352          0.168856         0.180402\n",
      "14  0.183356     0.177583     -0.053066          0.164289         0.183356\n",
      "15  0.186517     0.172114     -0.030691          0.133269         0.186517\n",
      "16  0.195770     0.179602     -0.009683          0.172642         0.195770\n",
      "17  0.205537     0.192262     -0.088356          0.178060         0.205537\n",
      "18  0.210381     0.196806     -0.045678          0.191250         0.210381\n",
      "19  0.217746     0.207732     -0.023366          0.204849         0.217746\n",
      "20  0.217263     0.207486     -0.034472          0.196964         0.217263\n",
      "21  0.212912     0.202734     -0.002111          0.207823         0.212912\n",
      "22  0.218991     0.204435      0.008312          0.204454         0.218991\n",
      "23  0.228617     0.212436     -0.001101          0.224532         0.228617\n"
     ]
    },
    {
     "name": "stderr",
     "output_type": "stream",
     "text": [
      "100%|██████████| 5/5 [08:36<00:00, 103.24s/it]\n",
      "  0%|          | 0/5 [00:00<?, ?it/s]"
     ]
    },
    {
     "name": "stdout",
     "output_type": "stream",
     "text": [
      "this is step nb: 24\n",
      "         svm  svr_bagging  xgbregressor  committee_before  committee_after\n",
      "0   0.134800     0.133820      0.030457          0.123556         0.000000\n",
      "1   0.109566     0.107554     -0.144505          0.098920         0.109566\n",
      "2   0.132216     0.122569     -0.171722          0.117752         0.132216\n",
      "3   0.133073     0.142928     -0.248260          0.108564         0.133073\n",
      "4  -0.075148     0.047233     -0.152929         -0.116266        -0.075148\n",
      "5   0.045111     0.075261     -0.140512          0.019267         0.045111\n",
      "6   0.110173     0.112290     -0.097071          0.057635         0.110173\n",
      "7   0.097507     0.108384     -0.155341          0.059008         0.097507\n",
      "8   0.125656     0.146298     -0.186432          0.131710         0.125656\n",
      "9   0.131010     0.128326     -0.113989          0.143659         0.131010\n",
      "10  0.134128     0.153063     -0.057568          0.088818         0.134128\n",
      "11  0.159740     0.168539     -0.086358          0.142409         0.159740\n",
      "12  0.187018     0.178372     -0.028104          0.162877         0.187018\n",
      "13  0.180402     0.169724     -0.073352          0.168856         0.180402\n",
      "14  0.183356     0.177583     -0.053066          0.164289         0.183356\n",
      "15  0.186517     0.172114     -0.030691          0.133269         0.186517\n",
      "16  0.195770     0.179602     -0.009683          0.172642         0.195770\n",
      "17  0.205537     0.192262     -0.088356          0.178060         0.205537\n",
      "18  0.210381     0.196806     -0.045678          0.191250         0.210381\n",
      "19  0.217746     0.207732     -0.023366          0.204849         0.217746\n",
      "20  0.217263     0.207486     -0.034472          0.196964         0.217263\n",
      "21  0.212912     0.202734     -0.002111          0.207823         0.212912\n",
      "22  0.218991     0.204435      0.008312          0.204454         0.218991\n",
      "23  0.228617     0.212436     -0.001101          0.224532         0.228617\n",
      "24  0.227154     0.218587     -0.022726          0.218527         0.227154\n"
     ]
    },
    {
     "name": "stderr",
     "output_type": "stream",
     "text": [
      "100%|██████████| 5/5 [08:54<00:00, 106.87s/it]\n",
      "  0%|          | 0/5 [00:00<?, ?it/s]"
     ]
    },
    {
     "name": "stdout",
     "output_type": "stream",
     "text": [
      "this is step nb: 25\n",
      "         svm  svr_bagging  xgbregressor  committee_before  committee_after\n",
      "0   0.134800     0.133820      0.030457          0.123556         0.000000\n",
      "1   0.109566     0.107554     -0.144505          0.098920         0.109566\n",
      "2   0.132216     0.122569     -0.171722          0.117752         0.132216\n",
      "3   0.133073     0.142928     -0.248260          0.108564         0.133073\n",
      "4  -0.075148     0.047233     -0.152929         -0.116266        -0.075148\n",
      "5   0.045111     0.075261     -0.140512          0.019267         0.045111\n",
      "6   0.110173     0.112290     -0.097071          0.057635         0.110173\n",
      "7   0.097507     0.108384     -0.155341          0.059008         0.097507\n",
      "8   0.125656     0.146298     -0.186432          0.131710         0.125656\n",
      "9   0.131010     0.128326     -0.113989          0.143659         0.131010\n",
      "10  0.134128     0.153063     -0.057568          0.088818         0.134128\n",
      "11  0.159740     0.168539     -0.086358          0.142409         0.159740\n",
      "12  0.187018     0.178372     -0.028104          0.162877         0.187018\n",
      "13  0.180402     0.169724     -0.073352          0.168856         0.180402\n",
      "14  0.183356     0.177583     -0.053066          0.164289         0.183356\n",
      "15  0.186517     0.172114     -0.030691          0.133269         0.186517\n",
      "16  0.195770     0.179602     -0.009683          0.172642         0.195770\n",
      "17  0.205537     0.192262     -0.088356          0.178060         0.205537\n",
      "18  0.210381     0.196806     -0.045678          0.191250         0.210381\n",
      "19  0.217746     0.207732     -0.023366          0.204849         0.217746\n",
      "20  0.217263     0.207486     -0.034472          0.196964         0.217263\n",
      "21  0.212912     0.202734     -0.002111          0.207823         0.212912\n",
      "22  0.218991     0.204435      0.008312          0.204454         0.218991\n",
      "23  0.228617     0.212436     -0.001101          0.224532         0.228617\n",
      "24  0.227154     0.218587     -0.022726          0.218527         0.227154\n",
      "25  0.228864     0.214276     -0.049755          0.227165         0.228864\n"
     ]
    },
    {
     "name": "stderr",
     "output_type": "stream",
     "text": [
      "100%|██████████| 5/5 [09:12<00:00, 110.61s/it]\n",
      "  0%|          | 0/5 [00:00<?, ?it/s]"
     ]
    },
    {
     "name": "stdout",
     "output_type": "stream",
     "text": [
      "this is step nb: 26\n",
      "         svm  svr_bagging  xgbregressor  committee_before  committee_after\n",
      "0   0.134800     0.133820      0.030457          0.123556         0.000000\n",
      "1   0.109566     0.107554     -0.144505          0.098920         0.109566\n",
      "2   0.132216     0.122569     -0.171722          0.117752         0.132216\n",
      "3   0.133073     0.142928     -0.248260          0.108564         0.133073\n",
      "4  -0.075148     0.047233     -0.152929         -0.116266        -0.075148\n",
      "5   0.045111     0.075261     -0.140512          0.019267         0.045111\n",
      "6   0.110173     0.112290     -0.097071          0.057635         0.110173\n",
      "7   0.097507     0.108384     -0.155341          0.059008         0.097507\n",
      "8   0.125656     0.146298     -0.186432          0.131710         0.125656\n",
      "9   0.131010     0.128326     -0.113989          0.143659         0.131010\n",
      "10  0.134128     0.153063     -0.057568          0.088818         0.134128\n",
      "11  0.159740     0.168539     -0.086358          0.142409         0.159740\n",
      "12  0.187018     0.178372     -0.028104          0.162877         0.187018\n",
      "13  0.180402     0.169724     -0.073352          0.168856         0.180402\n",
      "14  0.183356     0.177583     -0.053066          0.164289         0.183356\n",
      "15  0.186517     0.172114     -0.030691          0.133269         0.186517\n",
      "16  0.195770     0.179602     -0.009683          0.172642         0.195770\n",
      "17  0.205537     0.192262     -0.088356          0.178060         0.205537\n",
      "18  0.210381     0.196806     -0.045678          0.191250         0.210381\n",
      "19  0.217746     0.207732     -0.023366          0.204849         0.217746\n",
      "20  0.217263     0.207486     -0.034472          0.196964         0.217263\n",
      "21  0.212912     0.202734     -0.002111          0.207823         0.212912\n",
      "22  0.218991     0.204435      0.008312          0.204454         0.218991\n",
      "23  0.228617     0.212436     -0.001101          0.224532         0.228617\n",
      "24  0.227154     0.218587     -0.022726          0.218527         0.227154\n",
      "25  0.228864     0.214276     -0.049755          0.227165         0.228864\n",
      "26  0.225505     0.216006      0.014817          0.226315         0.225505\n"
     ]
    },
    {
     "name": "stderr",
     "output_type": "stream",
     "text": [
      "100%|██████████| 5/5 [09:32<00:00, 114.38s/it]\n",
      "  0%|          | 0/5 [00:00<?, ?it/s]"
     ]
    },
    {
     "name": "stdout",
     "output_type": "stream",
     "text": [
      "this is step nb: 27\n",
      "         svm  svr_bagging  xgbregressor  committee_before  committee_after\n",
      "0   0.134800     0.133820      0.030457          0.123556         0.000000\n",
      "1   0.109566     0.107554     -0.144505          0.098920         0.109566\n",
      "2   0.132216     0.122569     -0.171722          0.117752         0.132216\n",
      "3   0.133073     0.142928     -0.248260          0.108564         0.133073\n",
      "4  -0.075148     0.047233     -0.152929         -0.116266        -0.075148\n",
      "5   0.045111     0.075261     -0.140512          0.019267         0.045111\n",
      "6   0.110173     0.112290     -0.097071          0.057635         0.110173\n",
      "7   0.097507     0.108384     -0.155341          0.059008         0.097507\n",
      "8   0.125656     0.146298     -0.186432          0.131710         0.125656\n",
      "9   0.131010     0.128326     -0.113989          0.143659         0.131010\n",
      "10  0.134128     0.153063     -0.057568          0.088818         0.134128\n",
      "11  0.159740     0.168539     -0.086358          0.142409         0.159740\n",
      "12  0.187018     0.178372     -0.028104          0.162877         0.187018\n",
      "13  0.180402     0.169724     -0.073352          0.168856         0.180402\n",
      "14  0.183356     0.177583     -0.053066          0.164289         0.183356\n",
      "15  0.186517     0.172114     -0.030691          0.133269         0.186517\n",
      "16  0.195770     0.179602     -0.009683          0.172642         0.195770\n",
      "17  0.205537     0.192262     -0.088356          0.178060         0.205537\n",
      "18  0.210381     0.196806     -0.045678          0.191250         0.210381\n",
      "19  0.217746     0.207732     -0.023366          0.204849         0.217746\n",
      "20  0.217263     0.207486     -0.034472          0.196964         0.217263\n",
      "21  0.212912     0.202734     -0.002111          0.207823         0.212912\n",
      "22  0.218991     0.204435      0.008312          0.204454         0.218991\n",
      "23  0.228617     0.212436     -0.001101          0.224532         0.228617\n",
      "24  0.227154     0.218587     -0.022726          0.218527         0.227154\n",
      "25  0.228864     0.214276     -0.049755          0.227165         0.228864\n",
      "26  0.225505     0.216006      0.014817          0.226315         0.225505\n",
      "27  0.227386     0.212976     -0.018027          0.222113         0.227386\n"
     ]
    },
    {
     "name": "stderr",
     "output_type": "stream",
     "text": [
      "100%|██████████| 5/5 [09:49<00:00, 117.81s/it]\n",
      "  0%|          | 0/5 [00:00<?, ?it/s]"
     ]
    },
    {
     "name": "stdout",
     "output_type": "stream",
     "text": [
      "this is step nb: 28\n",
      "         svm  svr_bagging  xgbregressor  committee_before  committee_after\n",
      "0   0.134800     0.133820      0.030457          0.123556         0.000000\n",
      "1   0.109566     0.107554     -0.144505          0.098920         0.109566\n",
      "2   0.132216     0.122569     -0.171722          0.117752         0.132216\n",
      "3   0.133073     0.142928     -0.248260          0.108564         0.133073\n",
      "4  -0.075148     0.047233     -0.152929         -0.116266        -0.075148\n",
      "5   0.045111     0.075261     -0.140512          0.019267         0.045111\n",
      "6   0.110173     0.112290     -0.097071          0.057635         0.110173\n",
      "7   0.097507     0.108384     -0.155341          0.059008         0.097507\n",
      "8   0.125656     0.146298     -0.186432          0.131710         0.125656\n",
      "9   0.131010     0.128326     -0.113989          0.143659         0.131010\n",
      "10  0.134128     0.153063     -0.057568          0.088818         0.134128\n",
      "11  0.159740     0.168539     -0.086358          0.142409         0.159740\n",
      "12  0.187018     0.178372     -0.028104          0.162877         0.187018\n",
      "13  0.180402     0.169724     -0.073352          0.168856         0.180402\n",
      "14  0.183356     0.177583     -0.053066          0.164289         0.183356\n",
      "15  0.186517     0.172114     -0.030691          0.133269         0.186517\n",
      "16  0.195770     0.179602     -0.009683          0.172642         0.195770\n",
      "17  0.205537     0.192262     -0.088356          0.178060         0.205537\n",
      "18  0.210381     0.196806     -0.045678          0.191250         0.210381\n",
      "19  0.217746     0.207732     -0.023366          0.204849         0.217746\n",
      "20  0.217263     0.207486     -0.034472          0.196964         0.217263\n",
      "21  0.212912     0.202734     -0.002111          0.207823         0.212912\n",
      "22  0.218991     0.204435      0.008312          0.204454         0.218991\n",
      "23  0.228617     0.212436     -0.001101          0.224532         0.228617\n",
      "24  0.227154     0.218587     -0.022726          0.218527         0.227154\n",
      "25  0.228864     0.214276     -0.049755          0.227165         0.228864\n",
      "26  0.225505     0.216006      0.014817          0.226315         0.225505\n",
      "27  0.227386     0.212976     -0.018027          0.222113         0.227386\n",
      "28  0.226732     0.213464     -0.004251          0.222904         0.226732\n"
     ]
    },
    {
     "name": "stderr",
     "output_type": "stream",
     "text": [
      "100%|██████████| 5/5 [10:06<00:00, 121.25s/it]\n",
      "  0%|          | 0/5 [00:00<?, ?it/s]"
     ]
    },
    {
     "name": "stdout",
     "output_type": "stream",
     "text": [
      "this is step nb: 29\n",
      "         svm  svr_bagging  xgbregressor  committee_before  committee_after\n",
      "0   0.134800     0.133820      0.030457          0.123556         0.000000\n",
      "1   0.109566     0.107554     -0.144505          0.098920         0.109566\n",
      "2   0.132216     0.122569     -0.171722          0.117752         0.132216\n",
      "3   0.133073     0.142928     -0.248260          0.108564         0.133073\n",
      "4  -0.075148     0.047233     -0.152929         -0.116266        -0.075148\n",
      "5   0.045111     0.075261     -0.140512          0.019267         0.045111\n",
      "6   0.110173     0.112290     -0.097071          0.057635         0.110173\n",
      "7   0.097507     0.108384     -0.155341          0.059008         0.097507\n",
      "8   0.125656     0.146298     -0.186432          0.131710         0.125656\n",
      "9   0.131010     0.128326     -0.113989          0.143659         0.131010\n",
      "10  0.134128     0.153063     -0.057568          0.088818         0.134128\n",
      "11  0.159740     0.168539     -0.086358          0.142409         0.159740\n",
      "12  0.187018     0.178372     -0.028104          0.162877         0.187018\n",
      "13  0.180402     0.169724     -0.073352          0.168856         0.180402\n",
      "14  0.183356     0.177583     -0.053066          0.164289         0.183356\n",
      "15  0.186517     0.172114     -0.030691          0.133269         0.186517\n",
      "16  0.195770     0.179602     -0.009683          0.172642         0.195770\n",
      "17  0.205537     0.192262     -0.088356          0.178060         0.205537\n",
      "18  0.210381     0.196806     -0.045678          0.191250         0.210381\n",
      "19  0.217746     0.207732     -0.023366          0.204849         0.217746\n",
      "20  0.217263     0.207486     -0.034472          0.196964         0.217263\n",
      "21  0.212912     0.202734     -0.002111          0.207823         0.212912\n",
      "22  0.218991     0.204435      0.008312          0.204454         0.218991\n",
      "23  0.228617     0.212436     -0.001101          0.224532         0.228617\n",
      "24  0.227154     0.218587     -0.022726          0.218527         0.227154\n",
      "25  0.228864     0.214276     -0.049755          0.227165         0.228864\n",
      "26  0.225505     0.216006      0.014817          0.226315         0.225505\n",
      "27  0.227386     0.212976     -0.018027          0.222113         0.227386\n",
      "28  0.226732     0.213464     -0.004251          0.222904         0.226732\n",
      "29  0.227486     0.215500     -0.015164          0.223624         0.227486\n"
     ]
    },
    {
     "name": "stderr",
     "output_type": "stream",
     "text": [
      "100%|██████████| 5/5 [10:28<00:00, 125.62s/it]\n"
     ]
    }
   ],
   "source": [
    "closing_idx, sequential_params, df_results = al_in_cycle(\n",
    "    labeled_idx=initial_labeled_idx,\n",
    "    unlabeled_idx=initial_unlabeled_idx,\n",
    "    params=params_svr_example,\n",
    "    n_loop=30\n",
    ")"
   ]
  },
  {
   "cell_type": "code",
   "execution_count": 48,
   "metadata": {},
   "outputs": [
    {
     "data": {
      "text/plain": [
       "-0.07550254276736866"
      ]
     },
     "execution_count": 48,
     "metadata": {},
     "output_type": "execute_result"
    },
    {
     "data": {
      "image/png": "[encoded data removed]",
      "text/plain": [
       "<Figure size 432x288 with 1 Axes>"
      ]
     },
     "metadata": {
      "needs_background": "light"
     },
     "output_type": "display_data"
    }
   ],
   "source": [
    "evaluator(idx_segment=closing_idx[-1500: ], params=params_svr_example)"
   ]
  },
  {
   "cell_type": "code",
   "execution_count": 64,
   "metadata": {},
   "outputs": [
    {
     "data": {
      "image/png": "[encoded data removed]",
      "text/plain": [
       "<Figure size 1080x720 with 1 Axes>"
      ]
     },
     "metadata": {
      "needs_background": "light"
     },
     "output_type": "display_data"
    }
   ],
   "source": [
    "df_results.plot(kind=\"line\", figsize=(15, 10));"
   ]
  },
  {
   "cell_type": "markdown",
   "metadata": {},
   "source": [
    "# Save model"
   ]
  },
  {
   "cell_type": "code",
   "execution_count": null,
   "metadata": {},
   "outputs": [],
   "source": [
    "with open('submmition/hw3_bk_sub3.txt', 'a') as f:\n",
    "    for idx in range(len(sequential_idxs)):\n",
    "        ind_text = ','.join(list(map(str, sequential_idxs[idx])))\n",
    "        params_test = ';'.join(list(map(str, sequential_params[idx])))\n",
    "        text = ';'.join([params_test, ind_text])\n",
    "        f.write(text + '\\n')"
   ]
  },
  {
   "cell_type": "code",
   "execution_count": null,
   "metadata": {},
   "outputs": [],
   "source": []
  }
 ],
 "metadata": {
  "kernelspec": {
   "display_name": "Python 3",
   "language": "python",
   "name": "python3"
  },
  "language_info": {
   "codemirror_mode": {
    "name": "ipython",
    "version": 3
   },
   "file_extension": ".py",
   "mimetype": "text/x-python",
   "name": "python",
   "nbconvert_exporter": "python",
   "pygments_lexer": "ipython3",
   "version": "3.6.7"
  }
 },
 "nbformat": 4,
 "nbformat_minor": 2
}
