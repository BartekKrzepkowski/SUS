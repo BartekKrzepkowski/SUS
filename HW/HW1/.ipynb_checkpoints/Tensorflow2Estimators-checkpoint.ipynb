{
 "cells": [
  {
   "cell_type": "code",
   "execution_count": 2,
   "metadata": {},
   "outputs": [],
   "source": [
    "import tensorflow as tf2"
   ]
  },
  {
   "cell_type": "code",
   "execution_count": 1,
   "metadata": {},
   "outputs": [
    {
     "ename": "NameError",
     "evalue": "name 'tf2' is not defined",
     "output_type": "error",
     "traceback": [
      "\u001b[0;31m---------------------------------------------------------------------------\u001b[0m",
      "\u001b[0;31mNameError\u001b[0m                                 Traceback (most recent call last)",
      "\u001b[0;32m<ipython-input-1-3758ce1d9570>\u001b[0m in \u001b[0;36m<module>\u001b[0;34m\u001b[0m\n\u001b[0;32m----> 1\u001b[0;31m \u001b[0mtf2\u001b[0m\u001b[0;34m.\u001b[0m\u001b[0mexecuting_eagerly\u001b[0m\u001b[0;34m(\u001b[0m\u001b[0;34m)\u001b[0m\u001b[0;34m\u001b[0m\u001b[0;34m\u001b[0m\u001b[0m\n\u001b[0m\u001b[1;32m      2\u001b[0m \u001b[0;34m\u001b[0m\u001b[0m\n\u001b[1;32m      3\u001b[0m \u001b[0mnumeric_columns\u001b[0m \u001b[0;34m=\u001b[0m \u001b[0mdf\u001b[0m\u001b[0;34m.\u001b[0m\u001b[0mcolumns\u001b[0m\u001b[0;34m[\u001b[0m\u001b[0;34m:\u001b[0m\u001b[0;34m-\u001b[0m\u001b[0;36m1\u001b[0m\u001b[0;34m]\u001b[0m\u001b[0;34m\u001b[0m\u001b[0;34m\u001b[0m\u001b[0m\n\u001b[1;32m      4\u001b[0m \u001b[0mbinary_column\u001b[0m \u001b[0;34m=\u001b[0m \u001b[0mdf\u001b[0m\u001b[0;34m.\u001b[0m\u001b[0mcolumns\u001b[0m\u001b[0;34m[\u001b[0m\u001b[0;34m-\u001b[0m\u001b[0;36m1\u001b[0m\u001b[0;34m]\u001b[0m\u001b[0;34m\u001b[0m\u001b[0;34m\u001b[0m\u001b[0m\n\u001b[1;32m      5\u001b[0m \u001b[0;34m\u001b[0m\u001b[0m\n",
      "\u001b[0;31mNameError\u001b[0m: name 'tf2' is not defined"
     ]
    }
   ],
   "source": [
    "tf2.executing_eagerly()\n",
    "\n",
    "numeric_columns = df.columns[:-1]\n",
    "binary_column = df.columns[-1]\n",
    "\n",
    "#####################\n",
    "#z pliku\n",
    "def _parse_csv_row(*vals):\n",
    "    features, class_label = vals[:-1], vals[-1]\n",
    "    features = dict(zip(numeric_columns, features))\n",
    "    return features, class_label\n",
    "\n",
    "def load_data(*filenames):\n",
    "    dataset = tf2.data.experimental.CsvDataset(filenames=DATA_PATH,\n",
    "                                               record_defaults=[tf2.float32]*10+[tf2.int32], header=True)\n",
    "    return dataset.map(_parse_csv_row).batch(64)\n",
    "#######################\n",
    "\n",
    "\n",
    "\n",
    "def create_feature_layer(columns_names):\n",
    "    feature_columns = [tf2.feature_column.numeric_column(key=feat) for feat in columns_names]\n",
    "    return tf2.keras.layers.DenseFeatures(feature_columns), feature_columns\n",
    "\n",
    "dataset = load_data(DATA_PATH)\n",
    "feature_layer, feature_columns = create_feature_layer(numeric_columns)\n",
    "STEPS = len([_ for el in dataset])\n",
    "\n",
    "def build_model():\n",
    "    model = tf2.keras.models.Sequential([\n",
    "        feature_layer,\n",
    "        tf2.keras.layers.Dense(20, activation=\"relu\"),\n",
    "        tf2.keras.layers.Dense(10, activation=\"relu\"),\n",
    "        tf2.keras.layers.Dense(1, activation=\"sigmoid\")\n",
    "    ])\n",
    "    model.compile(\n",
    "        loss=\"binary_crossentropy\",\n",
    "        optimizer=\"adam\",\n",
    "        metrics=[\"accuracy\"]\n",
    "    )\n",
    "    return model\n",
    "\n",
    "# Estimators\n",
    "#############\n",
    "#######z reprezentacji macierzowej\n",
    "x_train, x_test, y_train, y_test = train_test_split(X, y, test_size=0.3)\n",
    "\n",
    "def input_fn_train(features, target, labels, batch_size):\n",
    "    dataset = tf2.data.Dataset.from_tensor_slices((dict(zip(labels, features.T)), target))\n",
    "    return dataset.shuffle(1000).repeat().batch(batch_size)\n",
    "\n",
    "\n",
    "def input_fn_eval(features, target, labels, batch_size):\n",
    "    dataset = tf2.data.Dataset.from_tensor_slices((dict(zip(labels, features.T)), target))\n",
    "    return dataset.shuffle(1000).repeat().batch(batch_size)\n",
    "\n",
    "\n",
    "def input_fn_predict(features, target, labels, batch_size):\n",
    "    dataset = tf2.data.Dataset.from_tensor_slices((dict(zip(labels, features)), target))\n",
    "    return dataset.shuffle(1000).repeat().batch(batch_size)    \n",
    "######################                                                  \n",
    "\n",
    "def build_estimator(numeric_columns):\n",
    "    feature_columns = [tf2.feature_column.numeric_column(feat) for feat in numeric_columns]\n",
    "    estimator = tf2.estimator.DNNClassifier(\n",
    "        hidden_units=[20,15],\n",
    "        feature_columns=feature_columns,\n",
    "        n_classes=2,\n",
    "        optimizer=\"Adam\" \n",
    "    )\n",
    "    return estimator\n",
    "    \n",
    "\n",
    "est = build_estimator(numeric_columns)\n",
    "\n",
    "est.train(\n",
    "    input_fn=lambda: input_fn_train(x_train, y_train, numeric_columns, 64),\n",
    "    steps=STEPS\n",
    ")\n",
    "\n",
    "est.evaluate(\n",
    "    input_fn=lambda: input_fn_eval(x_test, y_test, numeric_columns, 64),\n",
    "    steps=STEPS\n",
    ")\n",
    "\n"
   ]
  },
  {
   "cell_type": "code",
   "execution_count": null,
   "metadata": {},
   "outputs": [],
   "source": [
    "tf2.tr"
   ]
  }
 ],
 "metadata": {
  "kernelspec": {
   "display_name": "Python 3",
   "language": "python",
   "name": "python3"
  },
  "language_info": {
   "codemirror_mode": {
    "name": "ipython",
    "version": 3
   },
   "file_extension": ".py",
   "mimetype": "text/x-python",
   "name": "python",
   "nbconvert_exporter": "python",
   "pygments_lexer": "ipython3",
   "version": "3.6.7"
  }
 },
 "nbformat": 4,
 "nbformat_minor": 2
}
